{
 "cells": [
  {
   "cell_type": "code",
   "execution_count": 1,
   "id": "86f279d0",
   "metadata": {},
   "outputs": [],
   "source": [
    "import sys\n",
    "import os\n",
    "sys.path.append(os.path.abspath(os.path.join(os.getcwd(), '..', '..')))"
   ]
  },
  {
   "cell_type": "code",
   "execution_count": 2,
   "id": "62a31741",
   "metadata": {},
   "outputs": [],
   "source": [
    "from tqdm import tqdm\n",
    "import pandas as pd\n",
    "import numpy as np\n",
    "\n",
    "import torch\n",
    "from torch.utils.data import TensorDataset, DataLoader\n",
    "import torch.nn as nn\n",
    "import torch.nn.functional as F\n",
    "\n",
    "from utils.helper import *"
   ]
  },
  {
   "cell_type": "code",
   "execution_count": 3,
   "id": "a71c3c42",
   "metadata": {},
   "outputs": [
    {
     "name": "stderr",
     "output_type": "stream",
     "text": [
      "/Users/sohamsamal/Documents/Coding/Research/research-btc-pred/venv/lib/python3.11/site-packages/sklearn/base.py:442: InconsistentVersionWarning: Trying to unpickle estimator StandardScaler from version 1.7.1 when using version 1.7.2. This might lead to breaking code or invalid results. Use at your own risk. For more info please refer to:\n",
      "https://scikit-learn.org/stable/model_persistence.html#security-maintainability-limitations\n",
      "  warnings.warn(\n"
     ]
    }
   ],
   "source": [
    "df = pd.read_csv(\"../../data/Final_Btc_Data_with_Indicators.csv\", parse_dates=['Date'])\n",
    "\n",
    "target_col = \"Price\"\n",
    "features = [col for col in df.columns if col != target_col and col != \"Date\"]\n",
    "\n",
    "df = scaled_data(df)\n",
    "\n",
    "seq_len = 15\n",
    "horizon = 1\n",
    "X, y = create_sequences(df[features].values, df[target_col].values, seq_len, horizon)"
   ]
  },
  {
   "cell_type": "code",
   "execution_count": 4,
   "id": "ca4aea40",
   "metadata": {},
   "outputs": [],
   "source": [
    "batch_size = 256\n",
    "\n",
    "train_loader, val_loader, test_loader = data_loaders(df, X, y, batch_size=batch_size)"
   ]
  },
  {
   "cell_type": "code",
   "execution_count": 5,
   "id": "612a4c34",
   "metadata": {},
   "outputs": [],
   "source": [
    "class CNNBiLSTM(nn.Module):\n",
    "    def __init__(self, input_dim, num_filters=32, num_bilstm_layers=2, lstm_hidden=64, filter_size=(10, 1), input_lstm_dim=100, dropout_rate=0.25):\n",
    "        super().__init__()\n",
    "        self.conv1 = nn.Conv1d(\n",
    "            in_channels=input_dim,\n",
    "            out_channels=num_filters,\n",
    "            kernel_size=filter_size[0],\n",
    "            stride=1,\n",
    "            padding=filter_size[0] // 2\n",
    "        )\n",
    "\n",
    "        self.proj = nn.Linear(num_filters, input_lstm_dim)\n",
    "\n",
    "        self.relu = nn.ReLU()\n",
    "\n",
    "        self.bilstm1 = nn.LSTM(\n",
    "            input_size=input_lstm_dim,\n",
    "            hidden_size=lstm_hidden,\n",
    "            batch_first=True,\n",
    "            bidirectional=True\n",
    "        )\n",
    "\n",
    "        self.drop1 = nn.Dropout(dropout_rate)\n",
    "\n",
    "        self.bilstm2 = nn.LSTM(\n",
    "            input_size = 2 * lstm_hidden,\n",
    "            hidden_size=lstm_hidden,\n",
    "            batch_first=True,\n",
    "            bidirectional=True\n",
    "        )\n",
    "\n",
    "        self.fc = nn.Linear(lstm_hidden * 2, 1)\n",
    "\n",
    "\n",
    "    def forward(self, x):\n",
    "        x = x.permute(0, 2, 1)\n",
    "        x = self.relu(self.conv1(x))\n",
    "\n",
    "        x = x.permute(0, 2, 1)\n",
    "        x = self.relu(self.proj(x))\n",
    "\n",
    "        # BiLSTM layers\n",
    "        out, _ = self.bilstm1(x)\n",
    "        out = self.drop1(out)\n",
    "        out, _ = self.bilstm2(out)\n",
    "\n",
    "        # take last time step\n",
    "        out = out[:, -1, :]\n",
    "        out = self.fc(out)\n",
    "        return out.squeeze(-1)"
   ]
  },
  {
   "cell_type": "code",
   "execution_count": 6,
   "id": "b6ba35d1",
   "metadata": {},
   "outputs": [
    {
     "name": "stdout",
     "output_type": "stream",
     "text": [
      "Using device: mps\n"
     ]
    }
   ],
   "source": [
    "if torch.backends.mps.is_available():\n",
    "    device = torch.device(\"mps\")\n",
    "elif torch.cuda.is_available():\n",
    "    device = torch.device(\"cuda\")\n",
    "else:\n",
    "    device = torch.device(\"cpu\")\n",
    "\n",
    "print(f\"Using device: {device}\")"
   ]
  },
  {
   "cell_type": "code",
   "execution_count": 7,
   "id": "8324f6ff",
   "metadata": {},
   "outputs": [],
   "source": [
    "model = CNNBiLSTM(input_dim=len(features))"
   ]
  },
  {
   "cell_type": "code",
   "execution_count": 8,
   "id": "158cd84e",
   "metadata": {},
   "outputs": [],
   "source": [
    "decay_rate = 0.8\n",
    "num_epochs = 500\n",
    "learning_rate = 0.001\n",
    "l2_penalty = 0.001"
   ]
  },
  {
   "cell_type": "code",
   "execution_count": 9,
   "id": "37ac1cf8",
   "metadata": {},
   "outputs": [
    {
     "name": "stdout",
     "output_type": "stream",
     "text": [
      "Test Loss: 0.143545\n",
      "Training on device: mps\n",
      "Model parameters: 192261\n",
      "========================================\n",
      "Epoch 1/300\n",
      "----------------------------------------\n"
     ]
    },
    {
     "name": "stderr",
     "output_type": "stream",
     "text": [
      "100%|██████████| 10/10 [00:00<00:00, 19.76it/s]\n",
      "100%|██████████| 2/2 [00:00<00:00, 38.21it/s]\n"
     ]
    },
    {
     "name": "stdout",
     "output_type": "stream",
     "text": [
      "Epoch [1/300] - Train Loss: 1.300539, Val Loss: 19.713286\n",
      "========================================\n",
      "Epoch 2/300\n",
      "----------------------------------------\n"
     ]
    },
    {
     "name": "stderr",
     "output_type": "stream",
     "text": [
      "100%|██████████| 10/10 [00:00<00:00, 56.71it/s]\n",
      "100%|██████████| 2/2 [00:00<00:00, 171.96it/s]\n"
     ]
    },
    {
     "name": "stdout",
     "output_type": "stream",
     "text": [
      "Epoch [2/300] - Train Loss: 1.096408, Val Loss: 18.105462\n",
      "========================================\n",
      "Epoch 3/300\n",
      "----------------------------------------\n"
     ]
    },
    {
     "name": "stderr",
     "output_type": "stream",
     "text": [
      "100%|██████████| 10/10 [00:00<00:00, 59.24it/s]\n",
      "100%|██████████| 2/2 [00:00<00:00, 172.89it/s]\n"
     ]
    },
    {
     "name": "stdout",
     "output_type": "stream",
     "text": [
      "Epoch [3/300] - Train Loss: 0.863671, Val Loss: 15.288408\n",
      "========================================\n",
      "Epoch 4/300\n",
      "----------------------------------------\n"
     ]
    },
    {
     "name": "stderr",
     "output_type": "stream",
     "text": [
      "100%|██████████| 10/10 [00:00<00:00, 61.47it/s]\n",
      "100%|██████████| 2/2 [00:00<00:00, 180.77it/s]\n"
     ]
    },
    {
     "name": "stdout",
     "output_type": "stream",
     "text": [
      "Epoch [4/300] - Train Loss: 0.648700, Val Loss: 11.195829\n",
      "========================================\n",
      "Epoch 5/300\n",
      "----------------------------------------\n"
     ]
    },
    {
     "name": "stderr",
     "output_type": "stream",
     "text": [
      "100%|██████████| 10/10 [00:00<00:00, 61.80it/s]\n",
      "100%|██████████| 2/2 [00:00<00:00, 174.68it/s]\n"
     ]
    },
    {
     "name": "stdout",
     "output_type": "stream",
     "text": [
      "Epoch [5/300] - Train Loss: 0.461845, Val Loss: 6.724826\n",
      "========================================\n",
      "Epoch 6/300\n",
      "----------------------------------------\n"
     ]
    },
    {
     "name": "stderr",
     "output_type": "stream",
     "text": [
      "100%|██████████| 10/10 [00:00<00:00, 60.28it/s]\n",
      "100%|██████████| 2/2 [00:00<00:00, 178.87it/s]\n"
     ]
    },
    {
     "name": "stdout",
     "output_type": "stream",
     "text": [
      "Epoch [6/300] - Train Loss: 0.288904, Val Loss: 3.988164\n",
      "========================================\n",
      "Epoch 7/300\n",
      "----------------------------------------\n"
     ]
    },
    {
     "name": "stderr",
     "output_type": "stream",
     "text": [
      "100%|██████████| 10/10 [00:00<00:00, 61.37it/s]\n",
      "100%|██████████| 2/2 [00:00<00:00, 174.43it/s]\n"
     ]
    },
    {
     "name": "stdout",
     "output_type": "stream",
     "text": [
      "Epoch [7/300] - Train Loss: 0.145440, Val Loss: 2.208660\n",
      "========================================\n",
      "Epoch 8/300\n",
      "----------------------------------------\n"
     ]
    },
    {
     "name": "stderr",
     "output_type": "stream",
     "text": [
      "100%|██████████| 10/10 [00:00<00:00, 61.56it/s]\n",
      "100%|██████████| 2/2 [00:00<00:00, 174.40it/s]\n"
     ]
    },
    {
     "name": "stdout",
     "output_type": "stream",
     "text": [
      "Epoch [8/300] - Train Loss: 0.078582, Val Loss: 0.528709\n",
      "========================================\n",
      "Epoch 9/300\n",
      "----------------------------------------\n"
     ]
    },
    {
     "name": "stderr",
     "output_type": "stream",
     "text": [
      "100%|██████████| 10/10 [00:00<00:00, 60.43it/s]\n",
      "100%|██████████| 2/2 [00:00<00:00, 169.06it/s]\n"
     ]
    },
    {
     "name": "stdout",
     "output_type": "stream",
     "text": [
      "Epoch [9/300] - Train Loss: 0.062736, Val Loss: 0.503911\n",
      "========================================\n",
      "Epoch 10/300\n",
      "----------------------------------------\n"
     ]
    },
    {
     "name": "stderr",
     "output_type": "stream",
     "text": [
      "100%|██████████| 10/10 [00:00<00:00, 61.43it/s]\n",
      "100%|██████████| 2/2 [00:00<00:00, 152.40it/s]\n"
     ]
    },
    {
     "name": "stdout",
     "output_type": "stream",
     "text": [
      "Epoch [10/300] - Train Loss: 0.077882, Val Loss: 0.707301\n",
      "========================================\n",
      "Epoch 11/300\n",
      "----------------------------------------\n"
     ]
    },
    {
     "name": "stderr",
     "output_type": "stream",
     "text": [
      "100%|██████████| 10/10 [00:00<00:00, 43.18it/s]\n",
      "100%|██████████| 2/2 [00:00<00:00, 131.40it/s]\n"
     ]
    },
    {
     "name": "stdout",
     "output_type": "stream",
     "text": [
      "Epoch [11/300] - Train Loss: 0.080572, Val Loss: 0.423634\n",
      "========================================\n",
      "Epoch 12/300\n",
      "----------------------------------------\n"
     ]
    },
    {
     "name": "stderr",
     "output_type": "stream",
     "text": [
      "100%|██████████| 10/10 [00:00<00:00, 41.84it/s]\n",
      "100%|██████████| 2/2 [00:00<00:00, 51.71it/s]\n"
     ]
    },
    {
     "name": "stdout",
     "output_type": "stream",
     "text": [
      "Epoch [12/300] - Train Loss: 0.055809, Val Loss: 0.829408\n",
      "========================================\n",
      "Epoch 13/300\n",
      "----------------------------------------\n"
     ]
    },
    {
     "name": "stderr",
     "output_type": "stream",
     "text": [
      "100%|██████████| 10/10 [00:00<00:00, 28.37it/s]\n",
      "100%|██████████| 2/2 [00:00<00:00, 106.68it/s]\n"
     ]
    },
    {
     "name": "stdout",
     "output_type": "stream",
     "text": [
      "Epoch [13/300] - Train Loss: 0.028833, Val Loss: 0.310654\n",
      "========================================\n",
      "Epoch 14/300\n",
      "----------------------------------------\n"
     ]
    },
    {
     "name": "stderr",
     "output_type": "stream",
     "text": [
      "100%|██████████| 10/10 [00:00<00:00, 23.41it/s]\n",
      "100%|██████████| 2/2 [00:00<00:00, 154.66it/s]\n"
     ]
    },
    {
     "name": "stdout",
     "output_type": "stream",
     "text": [
      "Epoch [14/300] - Train Loss: 0.025415, Val Loss: 0.304255\n",
      "========================================\n",
      "Epoch 15/300\n",
      "----------------------------------------\n"
     ]
    },
    {
     "name": "stderr",
     "output_type": "stream",
     "text": [
      "100%|██████████| 10/10 [00:00<00:00, 55.98it/s]\n",
      "100%|██████████| 2/2 [00:00<00:00, 173.55it/s]\n"
     ]
    },
    {
     "name": "stdout",
     "output_type": "stream",
     "text": [
      "Epoch [15/300] - Train Loss: 0.021268, Val Loss: 0.523239\n",
      "========================================\n",
      "Epoch 16/300\n",
      "----------------------------------------\n"
     ]
    },
    {
     "name": "stderr",
     "output_type": "stream",
     "text": [
      "100%|██████████| 10/10 [00:00<00:00, 56.09it/s]\n",
      "100%|██████████| 2/2 [00:00<00:00, 174.13it/s]\n"
     ]
    },
    {
     "name": "stdout",
     "output_type": "stream",
     "text": [
      "Epoch [16/300] - Train Loss: 0.019744, Val Loss: 0.338481\n",
      "========================================\n",
      "Epoch 17/300\n",
      "----------------------------------------\n"
     ]
    },
    {
     "name": "stderr",
     "output_type": "stream",
     "text": [
      "100%|██████████| 10/10 [00:00<00:00, 55.87it/s]\n",
      "100%|██████████| 2/2 [00:00<00:00, 169.01it/s]\n"
     ]
    },
    {
     "name": "stdout",
     "output_type": "stream",
     "text": [
      "Epoch [17/300] - Train Loss: 0.029549, Val Loss: 1.054980\n",
      "========================================\n",
      "Epoch 18/300\n",
      "----------------------------------------\n"
     ]
    },
    {
     "name": "stderr",
     "output_type": "stream",
     "text": [
      "100%|██████████| 10/10 [00:00<00:00, 43.10it/s]\n",
      "100%|██████████| 2/2 [00:00<00:00, 87.97it/s]\n"
     ]
    },
    {
     "name": "stdout",
     "output_type": "stream",
     "text": [
      "Epoch [18/300] - Train Loss: 0.031944, Val Loss: 0.276456\n",
      "========================================\n",
      "Epoch 19/300\n",
      "----------------------------------------\n"
     ]
    },
    {
     "name": "stderr",
     "output_type": "stream",
     "text": [
      "100%|██████████| 10/10 [00:00<00:00, 36.89it/s]\n",
      "100%|██████████| 2/2 [00:00<00:00, 120.84it/s]\n"
     ]
    },
    {
     "name": "stdout",
     "output_type": "stream",
     "text": [
      "Epoch [19/300] - Train Loss: 0.040890, Val Loss: 1.412920\n",
      "========================================\n",
      "Epoch 20/300\n",
      "----------------------------------------\n"
     ]
    },
    {
     "name": "stderr",
     "output_type": "stream",
     "text": [
      "100%|██████████| 10/10 [00:00<00:00, 40.70it/s]\n",
      "100%|██████████| 2/2 [00:00<00:00, 139.65it/s]\n"
     ]
    },
    {
     "name": "stdout",
     "output_type": "stream",
     "text": [
      "Epoch [20/300] - Train Loss: 0.021816, Val Loss: 0.371765\n",
      "========================================\n",
      "Epoch 21/300\n",
      "----------------------------------------\n"
     ]
    },
    {
     "name": "stderr",
     "output_type": "stream",
     "text": [
      "100%|██████████| 10/10 [00:00<00:00, 25.86it/s]\n",
      "100%|██████████| 2/2 [00:00<00:00, 98.77it/s]\n"
     ]
    },
    {
     "name": "stdout",
     "output_type": "stream",
     "text": [
      "Epoch [21/300] - Train Loss: 0.014434, Val Loss: 0.811192\n",
      "========================================\n",
      "Epoch 22/300\n",
      "----------------------------------------\n"
     ]
    },
    {
     "name": "stderr",
     "output_type": "stream",
     "text": [
      "100%|██████████| 10/10 [00:00<00:00, 36.73it/s]\n",
      "100%|██████████| 2/2 [00:00<00:00, 130.07it/s]\n"
     ]
    },
    {
     "name": "stdout",
     "output_type": "stream",
     "text": [
      "Epoch [22/300] - Train Loss: 0.011832, Val Loss: 0.640363\n",
      "========================================\n",
      "Epoch 23/300\n",
      "----------------------------------------\n"
     ]
    },
    {
     "name": "stderr",
     "output_type": "stream",
     "text": [
      "100%|██████████| 10/10 [00:00<00:00, 49.03it/s]\n",
      "100%|██████████| 2/2 [00:00<00:00, 171.61it/s]\n"
     ]
    },
    {
     "name": "stdout",
     "output_type": "stream",
     "text": [
      "Epoch [23/300] - Train Loss: 0.010281, Val Loss: 0.652085\n",
      "========================================\n",
      "Epoch 24/300\n",
      "----------------------------------------\n"
     ]
    },
    {
     "name": "stderr",
     "output_type": "stream",
     "text": [
      "100%|██████████| 10/10 [00:00<00:00, 41.53it/s]\n",
      "100%|██████████| 2/2 [00:00<00:00, 168.61it/s]\n"
     ]
    },
    {
     "name": "stdout",
     "output_type": "stream",
     "text": [
      "Epoch [24/300] - Train Loss: 0.009149, Val Loss: 0.840845\n",
      "========================================\n",
      "Epoch 25/300\n",
      "----------------------------------------\n"
     ]
    },
    {
     "name": "stderr",
     "output_type": "stream",
     "text": [
      "100%|██████████| 10/10 [00:00<00:00, 28.20it/s]\n",
      "100%|██████████| 2/2 [00:00<00:00, 115.13it/s]\n"
     ]
    },
    {
     "name": "stdout",
     "output_type": "stream",
     "text": [
      "Epoch [25/300] - Train Loss: 0.010173, Val Loss: 0.636316\n",
      "========================================\n",
      "Epoch 26/300\n",
      "----------------------------------------\n"
     ]
    },
    {
     "name": "stderr",
     "output_type": "stream",
     "text": [
      "100%|██████████| 10/10 [00:00<00:00, 32.06it/s]\n",
      "100%|██████████| 2/2 [00:00<00:00, 103.81it/s]\n"
     ]
    },
    {
     "name": "stdout",
     "output_type": "stream",
     "text": [
      "Epoch [26/300] - Train Loss: 0.013108, Val Loss: 1.031855\n",
      "========================================\n",
      "Epoch 27/300\n",
      "----------------------------------------\n"
     ]
    },
    {
     "name": "stderr",
     "output_type": "stream",
     "text": [
      "100%|██████████| 10/10 [00:00<00:00, 33.65it/s]\n",
      "100%|██████████| 2/2 [00:00<00:00, 126.42it/s]\n"
     ]
    },
    {
     "name": "stdout",
     "output_type": "stream",
     "text": [
      "Epoch [27/300] - Train Loss: 0.025333, Val Loss: 0.441213\n",
      "========================================\n",
      "Epoch 28/300\n",
      "----------------------------------------\n"
     ]
    },
    {
     "name": "stderr",
     "output_type": "stream",
     "text": [
      "100%|██████████| 10/10 [00:00<00:00, 13.96it/s]\n",
      "100%|██████████| 2/2 [00:00<00:00, 39.67it/s]\n"
     ]
    },
    {
     "name": "stdout",
     "output_type": "stream",
     "text": [
      "Epoch [28/300] - Train Loss: 0.063557, Val Loss: 2.049822\n",
      "========================================\n",
      "Epoch 29/300\n",
      "----------------------------------------\n"
     ]
    },
    {
     "name": "stderr",
     "output_type": "stream",
     "text": [
      "100%|██████████| 10/10 [00:00<00:00, 29.49it/s]\n",
      "100%|██████████| 2/2 [00:00<00:00, 106.13it/s]\n"
     ]
    },
    {
     "name": "stdout",
     "output_type": "stream",
     "text": [
      "Epoch [29/300] - Train Loss: 0.071802, Val Loss: 0.216756\n",
      "========================================\n",
      "Epoch 30/300\n",
      "----------------------------------------\n"
     ]
    },
    {
     "name": "stderr",
     "output_type": "stream",
     "text": [
      "100%|██████████| 10/10 [00:00<00:00, 35.22it/s]\n",
      "100%|██████████| 2/2 [00:00<00:00, 76.43it/s]\n"
     ]
    },
    {
     "name": "stdout",
     "output_type": "stream",
     "text": [
      "Epoch [30/300] - Train Loss: 0.041917, Val Loss: 1.637279\n",
      "========================================\n",
      "Epoch 31/300\n",
      "----------------------------------------\n"
     ]
    },
    {
     "name": "stderr",
     "output_type": "stream",
     "text": [
      "100%|██████████| 10/10 [00:00<00:00, 44.42it/s]\n",
      "100%|██████████| 2/2 [00:00<00:00, 118.03it/s]\n"
     ]
    },
    {
     "name": "stdout",
     "output_type": "stream",
     "text": [
      "Epoch [31/300] - Train Loss: 0.013765, Val Loss: 0.552821\n",
      "========================================\n",
      "Epoch 32/300\n",
      "----------------------------------------\n"
     ]
    },
    {
     "name": "stderr",
     "output_type": "stream",
     "text": [
      "100%|██████████| 10/10 [00:00<00:00, 42.74it/s]\n",
      "100%|██████████| 2/2 [00:00<00:00, 169.90it/s]\n"
     ]
    },
    {
     "name": "stdout",
     "output_type": "stream",
     "text": [
      "Epoch [32/300] - Train Loss: 0.013037, Val Loss: 0.684717\n",
      "========================================\n",
      "Epoch 33/300\n",
      "----------------------------------------\n"
     ]
    },
    {
     "name": "stderr",
     "output_type": "stream",
     "text": [
      "100%|██████████| 10/10 [00:00<00:00, 41.44it/s]\n",
      "100%|██████████| 2/2 [00:00<00:00, 117.21it/s]\n"
     ]
    },
    {
     "name": "stdout",
     "output_type": "stream",
     "text": [
      "Epoch [33/300] - Train Loss: 0.012356, Val Loss: 0.985011\n",
      "========================================\n",
      "Epoch 34/300\n",
      "----------------------------------------\n"
     ]
    },
    {
     "name": "stderr",
     "output_type": "stream",
     "text": [
      "100%|██████████| 10/10 [00:00<00:00, 39.26it/s]\n",
      "100%|██████████| 2/2 [00:00<00:00, 103.09it/s]\n"
     ]
    },
    {
     "name": "stdout",
     "output_type": "stream",
     "text": [
      "Epoch [34/300] - Train Loss: 0.009255, Val Loss: 0.733544\n",
      "========================================\n",
      "Epoch 35/300\n",
      "----------------------------------------\n"
     ]
    },
    {
     "name": "stderr",
     "output_type": "stream",
     "text": [
      "100%|██████████| 10/10 [00:00<00:00, 42.30it/s]\n",
      "100%|██████████| 2/2 [00:00<00:00, 84.18it/s]\n"
     ]
    },
    {
     "name": "stdout",
     "output_type": "stream",
     "text": [
      "Epoch [35/300] - Train Loss: 0.008493, Val Loss: 0.945107\n",
      "========================================\n",
      "Epoch 36/300\n",
      "----------------------------------------\n"
     ]
    },
    {
     "name": "stderr",
     "output_type": "stream",
     "text": [
      "100%|██████████| 10/10 [00:00<00:00, 40.64it/s]\n",
      "100%|██████████| 2/2 [00:00<00:00, 116.49it/s]\n"
     ]
    },
    {
     "name": "stdout",
     "output_type": "stream",
     "text": [
      "Epoch [36/300] - Train Loss: 0.007667, Val Loss: 0.950584\n",
      "========================================\n",
      "Epoch 37/300\n",
      "----------------------------------------\n"
     ]
    },
    {
     "name": "stderr",
     "output_type": "stream",
     "text": [
      "100%|██████████| 10/10 [00:00<00:00, 35.44it/s]\n",
      "100%|██████████| 2/2 [00:00<00:00, 161.08it/s]\n"
     ]
    },
    {
     "name": "stdout",
     "output_type": "stream",
     "text": [
      "Epoch [37/300] - Train Loss: 0.007234, Val Loss: 0.867344\n",
      "========================================\n",
      "Epoch 38/300\n",
      "----------------------------------------\n"
     ]
    },
    {
     "name": "stderr",
     "output_type": "stream",
     "text": [
      "100%|██████████| 10/10 [00:00<00:00, 34.23it/s]\n",
      "100%|██████████| 2/2 [00:00<00:00, 149.17it/s]\n"
     ]
    },
    {
     "name": "stdout",
     "output_type": "stream",
     "text": [
      "Epoch [38/300] - Train Loss: 0.006204, Val Loss: 0.882412\n",
      "========================================\n",
      "Epoch 39/300\n",
      "----------------------------------------\n"
     ]
    },
    {
     "name": "stderr",
     "output_type": "stream",
     "text": [
      "100%|██████████| 10/10 [00:00<00:00, 29.13it/s]\n",
      "100%|██████████| 2/2 [00:00<00:00, 42.38it/s]\n"
     ]
    },
    {
     "name": "stdout",
     "output_type": "stream",
     "text": [
      "Epoch [39/300] - Train Loss: 0.006056, Val Loss: 0.881482\n",
      "========================================\n",
      "Epoch 40/300\n",
      "----------------------------------------\n"
     ]
    },
    {
     "name": "stderr",
     "output_type": "stream",
     "text": [
      "100%|██████████| 10/10 [00:00<00:00, 34.10it/s]\n",
      "100%|██████████| 2/2 [00:00<00:00, 108.14it/s]\n"
     ]
    },
    {
     "name": "stdout",
     "output_type": "stream",
     "text": [
      "Epoch [40/300] - Train Loss: 0.006657, Val Loss: 0.883006\n",
      "========================================\n",
      "Epoch 41/300\n",
      "----------------------------------------\n"
     ]
    },
    {
     "name": "stderr",
     "output_type": "stream",
     "text": [
      "100%|██████████| 10/10 [00:00<00:00, 32.82it/s]\n",
      "100%|██████████| 2/2 [00:00<00:00, 164.09it/s]\n"
     ]
    },
    {
     "name": "stdout",
     "output_type": "stream",
     "text": [
      "Epoch [41/300] - Train Loss: 0.006059, Val Loss: 0.711397\n",
      "========================================\n",
      "Epoch 42/300\n",
      "----------------------------------------\n"
     ]
    },
    {
     "name": "stderr",
     "output_type": "stream",
     "text": [
      "100%|██████████| 10/10 [00:00<00:00, 39.10it/s]\n",
      "100%|██████████| 2/2 [00:00<00:00, 86.43it/s]\n"
     ]
    },
    {
     "name": "stdout",
     "output_type": "stream",
     "text": [
      "Epoch [42/300] - Train Loss: 0.008508, Val Loss: 1.048167\n",
      "========================================\n",
      "Epoch 43/300\n",
      "----------------------------------------\n"
     ]
    },
    {
     "name": "stderr",
     "output_type": "stream",
     "text": [
      "100%|██████████| 10/10 [00:00<00:00, 38.50it/s]\n",
      "100%|██████████| 2/2 [00:00<00:00, 102.73it/s]\n"
     ]
    },
    {
     "name": "stdout",
     "output_type": "stream",
     "text": [
      "Epoch [43/300] - Train Loss: 0.015892, Val Loss: 0.486519\n",
      "========================================\n",
      "Epoch 44/300\n",
      "----------------------------------------\n"
     ]
    },
    {
     "name": "stderr",
     "output_type": "stream",
     "text": [
      "100%|██████████| 10/10 [00:00<00:00, 25.29it/s]\n",
      "100%|██████████| 2/2 [00:00<00:00, 44.03it/s]\n"
     ]
    },
    {
     "name": "stdout",
     "output_type": "stream",
     "text": [
      "Epoch [44/300] - Train Loss: 0.040453, Val Loss: 1.811442\n",
      "========================================\n",
      "Epoch 45/300\n",
      "----------------------------------------\n"
     ]
    },
    {
     "name": "stderr",
     "output_type": "stream",
     "text": [
      "100%|██████████| 10/10 [00:00<00:00, 35.23it/s]\n",
      "100%|██████████| 2/2 [00:00<00:00, 166.17it/s]\n"
     ]
    },
    {
     "name": "stdout",
     "output_type": "stream",
     "text": [
      "Epoch [45/300] - Train Loss: 0.050571, Val Loss: 0.204071\n",
      "========================================\n",
      "Epoch 46/300\n",
      "----------------------------------------\n"
     ]
    },
    {
     "name": "stderr",
     "output_type": "stream",
     "text": [
      "100%|██████████| 10/10 [00:00<00:00, 31.45it/s]\n",
      "100%|██████████| 2/2 [00:00<00:00, 133.80it/s]\n"
     ]
    },
    {
     "name": "stdout",
     "output_type": "stream",
     "text": [
      "Epoch [46/300] - Train Loss: 0.039276, Val Loss: 1.784803\n",
      "========================================\n",
      "Epoch 47/300\n",
      "----------------------------------------\n"
     ]
    },
    {
     "name": "stderr",
     "output_type": "stream",
     "text": [
      "100%|██████████| 10/10 [00:00<00:00, 31.04it/s]\n",
      "100%|██████████| 2/2 [00:00<00:00, 159.34it/s]\n"
     ]
    },
    {
     "name": "stdout",
     "output_type": "stream",
     "text": [
      "Epoch [47/300] - Train Loss: 0.016898, Val Loss: 0.431214\n",
      "========================================\n",
      "Epoch 48/300\n",
      "----------------------------------------\n"
     ]
    },
    {
     "name": "stderr",
     "output_type": "stream",
     "text": [
      "100%|██████████| 10/10 [00:00<00:00, 43.63it/s]\n",
      "100%|██████████| 2/2 [00:00<00:00, 78.15it/s]\n"
     ]
    },
    {
     "name": "stdout",
     "output_type": "stream",
     "text": [
      "Epoch [48/300] - Train Loss: 0.008121, Val Loss: 1.002523\n",
      "========================================\n",
      "Epoch 49/300\n",
      "----------------------------------------\n"
     ]
    },
    {
     "name": "stderr",
     "output_type": "stream",
     "text": [
      "100%|██████████| 10/10 [00:00<00:00, 45.15it/s]\n",
      "100%|██████████| 2/2 [00:00<00:00, 165.90it/s]\n"
     ]
    },
    {
     "name": "stdout",
     "output_type": "stream",
     "text": [
      "Epoch [49/300] - Train Loss: 0.008847, Val Loss: 0.938389\n",
      "========================================\n",
      "Epoch 50/300\n",
      "----------------------------------------\n"
     ]
    },
    {
     "name": "stderr",
     "output_type": "stream",
     "text": [
      "100%|██████████| 10/10 [00:00<00:00, 36.10it/s]\n",
      "100%|██████████| 2/2 [00:00<00:00, 97.83it/s]\n"
     ]
    },
    {
     "name": "stdout",
     "output_type": "stream",
     "text": [
      "Epoch [50/300] - Train Loss: 0.007844, Val Loss: 0.749932\n",
      "========================================\n",
      "Epoch 51/300\n",
      "----------------------------------------\n"
     ]
    },
    {
     "name": "stderr",
     "output_type": "stream",
     "text": [
      "100%|██████████| 10/10 [00:00<00:00, 28.41it/s]\n",
      "100%|██████████| 2/2 [00:00<00:00, 33.48it/s]\n"
     ]
    },
    {
     "name": "stdout",
     "output_type": "stream",
     "text": [
      "Epoch [51/300] - Train Loss: 0.007068, Val Loss: 0.943607\n",
      "========================================\n",
      "Epoch 52/300\n",
      "----------------------------------------\n"
     ]
    },
    {
     "name": "stderr",
     "output_type": "stream",
     "text": [
      "100%|██████████| 10/10 [00:00<00:00, 22.85it/s]\n",
      "100%|██████████| 2/2 [00:00<00:00, 151.48it/s]\n"
     ]
    },
    {
     "name": "stdout",
     "output_type": "stream",
     "text": [
      "Epoch [52/300] - Train Loss: 0.005858, Val Loss: 0.903383\n",
      "========================================\n",
      "Epoch 53/300\n",
      "----------------------------------------\n"
     ]
    },
    {
     "name": "stderr",
     "output_type": "stream",
     "text": [
      "100%|██████████| 10/10 [00:00<00:00, 31.13it/s]\n",
      "100%|██████████| 2/2 [00:00<00:00, 159.36it/s]\n"
     ]
    },
    {
     "name": "stdout",
     "output_type": "stream",
     "text": [
      "Epoch [53/300] - Train Loss: 0.006209, Val Loss: 0.860745\n",
      "========================================\n",
      "Epoch 54/300\n",
      "----------------------------------------\n"
     ]
    },
    {
     "name": "stderr",
     "output_type": "stream",
     "text": [
      "100%|██████████| 10/10 [00:00<00:00, 41.71it/s]\n",
      "100%|██████████| 2/2 [00:00<00:00, 121.28it/s]\n"
     ]
    },
    {
     "name": "stdout",
     "output_type": "stream",
     "text": [
      "Epoch [54/300] - Train Loss: 0.005599, Val Loss: 0.933782\n",
      "========================================\n",
      "Epoch 55/300\n",
      "----------------------------------------\n"
     ]
    },
    {
     "name": "stderr",
     "output_type": "stream",
     "text": [
      "100%|██████████| 10/10 [00:00<00:00, 49.09it/s]\n",
      "100%|██████████| 2/2 [00:00<00:00, 162.93it/s]\n"
     ]
    },
    {
     "name": "stdout",
     "output_type": "stream",
     "text": [
      "Epoch [55/300] - Train Loss: 0.005570, Val Loss: 0.823835\n",
      "========================================\n",
      "Epoch 56/300\n",
      "----------------------------------------\n"
     ]
    },
    {
     "name": "stderr",
     "output_type": "stream",
     "text": [
      "100%|██████████| 10/10 [00:00<00:00, 41.65it/s]\n",
      "100%|██████████| 2/2 [00:00<00:00, 97.21it/s]\n"
     ]
    },
    {
     "name": "stdout",
     "output_type": "stream",
     "text": [
      "Epoch [56/300] - Train Loss: 0.005612, Val Loss: 1.005817\n",
      "========================================\n",
      "Epoch 57/300\n",
      "----------------------------------------\n"
     ]
    },
    {
     "name": "stderr",
     "output_type": "stream",
     "text": [
      "100%|██████████| 10/10 [00:00<00:00, 37.58it/s]\n",
      "100%|██████████| 2/2 [00:00<00:00, 115.33it/s]\n"
     ]
    },
    {
     "name": "stdout",
     "output_type": "stream",
     "text": [
      "Epoch [57/300] - Train Loss: 0.007286, Val Loss: 0.679467\n",
      "========================================\n",
      "Epoch 58/300\n",
      "----------------------------------------\n"
     ]
    },
    {
     "name": "stderr",
     "output_type": "stream",
     "text": [
      "100%|██████████| 10/10 [00:00<00:00, 47.33it/s]\n",
      "100%|██████████| 2/2 [00:00<00:00, 176.46it/s]\n"
     ]
    },
    {
     "name": "stdout",
     "output_type": "stream",
     "text": [
      "Epoch [58/300] - Train Loss: 0.009973, Val Loss: 1.252552\n",
      "========================================\n",
      "Epoch 59/300\n",
      "----------------------------------------\n"
     ]
    },
    {
     "name": "stderr",
     "output_type": "stream",
     "text": [
      "100%|██████████| 10/10 [00:00<00:00, 48.68it/s]\n",
      "100%|██████████| 2/2 [00:00<00:00, 169.75it/s]\n"
     ]
    },
    {
     "name": "stdout",
     "output_type": "stream",
     "text": [
      "Epoch [59/300] - Train Loss: 0.013595, Val Loss: 0.468036\n",
      "========================================\n",
      "Epoch 60/300\n",
      "----------------------------------------\n"
     ]
    },
    {
     "name": "stderr",
     "output_type": "stream",
     "text": [
      "100%|██████████| 10/10 [00:00<00:00, 46.69it/s]\n",
      "100%|██████████| 2/2 [00:00<00:00, 168.08it/s]\n"
     ]
    },
    {
     "name": "stdout",
     "output_type": "stream",
     "text": [
      "Epoch [60/300] - Train Loss: 0.019856, Val Loss: 1.547283\n",
      "========================================\n",
      "Epoch 61/300\n",
      "----------------------------------------\n"
     ]
    },
    {
     "name": "stderr",
     "output_type": "stream",
     "text": [
      "100%|██████████| 10/10 [00:00<00:00, 38.75it/s]\n",
      "100%|██████████| 2/2 [00:00<00:00, 164.41it/s]\n"
     ]
    },
    {
     "name": "stdout",
     "output_type": "stream",
     "text": [
      "Epoch [61/300] - Train Loss: 0.020603, Val Loss: 0.360240\n",
      "========================================\n",
      "Epoch 62/300\n",
      "----------------------------------------\n"
     ]
    },
    {
     "name": "stderr",
     "output_type": "stream",
     "text": [
      "100%|██████████| 10/10 [00:00<00:00, 47.57it/s]\n",
      "100%|██████████| 2/2 [00:00<00:00, 175.53it/s]\n"
     ]
    },
    {
     "name": "stdout",
     "output_type": "stream",
     "text": [
      "Epoch [62/300] - Train Loss: 0.021099, Val Loss: 1.578186\n",
      "========================================\n",
      "Epoch 63/300\n",
      "----------------------------------------\n"
     ]
    },
    {
     "name": "stderr",
     "output_type": "stream",
     "text": [
      "100%|██████████| 10/10 [00:00<00:00, 41.33it/s]\n",
      "100%|██████████| 2/2 [00:00<00:00, 55.74it/s]\n"
     ]
    },
    {
     "name": "stdout",
     "output_type": "stream",
     "text": [
      "Epoch [63/300] - Train Loss: 0.017413, Val Loss: 0.391641\n",
      "========================================\n",
      "Epoch 64/300\n",
      "----------------------------------------\n"
     ]
    },
    {
     "name": "stderr",
     "output_type": "stream",
     "text": [
      "100%|██████████| 10/10 [00:00<00:00, 29.01it/s]\n",
      "100%|██████████| 2/2 [00:00<00:00, 33.29it/s]\n"
     ]
    },
    {
     "name": "stdout",
     "output_type": "stream",
     "text": [
      "Epoch [64/300] - Train Loss: 0.013319, Val Loss: 1.319061\n",
      "========================================\n",
      "Epoch 65/300\n",
      "----------------------------------------\n"
     ]
    },
    {
     "name": "stderr",
     "output_type": "stream",
     "text": [
      "100%|██████████| 10/10 [00:00<00:00, 25.88it/s]\n",
      "100%|██████████| 2/2 [00:00<00:00, 62.05it/s]\n"
     ]
    },
    {
     "name": "stdout",
     "output_type": "stream",
     "text": [
      "Epoch [65/300] - Train Loss: 0.009581, Val Loss: 0.554364\n",
      "========================================\n",
      "Epoch 66/300\n",
      "----------------------------------------\n"
     ]
    },
    {
     "name": "stderr",
     "output_type": "stream",
     "text": [
      "100%|██████████| 10/10 [00:00<00:00, 16.05it/s]\n",
      "100%|██████████| 2/2 [00:00<00:00, 31.62it/s]\n"
     ]
    },
    {
     "name": "stdout",
     "output_type": "stream",
     "text": [
      "Epoch [66/300] - Train Loss: 0.005865, Val Loss: 0.996728\n",
      "========================================\n",
      "Epoch 67/300\n",
      "----------------------------------------\n"
     ]
    },
    {
     "name": "stderr",
     "output_type": "stream",
     "text": [
      "100%|██████████| 10/10 [00:00<00:00, 46.72it/s]\n",
      "100%|██████████| 2/2 [00:00<00:00, 168.81it/s]\n"
     ]
    },
    {
     "name": "stdout",
     "output_type": "stream",
     "text": [
      "Epoch [67/300] - Train Loss: 0.005830, Val Loss: 0.757341\n",
      "========================================\n",
      "Epoch 68/300\n",
      "----------------------------------------\n"
     ]
    },
    {
     "name": "stderr",
     "output_type": "stream",
     "text": [
      "100%|██████████| 10/10 [00:00<00:00, 28.61it/s]\n",
      "100%|██████████| 2/2 [00:00<00:00, 93.87it/s]\n"
     ]
    },
    {
     "name": "stdout",
     "output_type": "stream",
     "text": [
      "Epoch [68/300] - Train Loss: 0.004709, Val Loss: 0.938097\n",
      "========================================\n",
      "Epoch 69/300\n",
      "----------------------------------------\n"
     ]
    },
    {
     "name": "stderr",
     "output_type": "stream",
     "text": [
      "100%|██████████| 10/10 [00:00<00:00, 34.56it/s]\n",
      "100%|██████████| 2/2 [00:00<00:00, 139.30it/s]\n"
     ]
    },
    {
     "name": "stdout",
     "output_type": "stream",
     "text": [
      "Epoch [69/300] - Train Loss: 0.005096, Val Loss: 0.769303\n",
      "========================================\n",
      "Epoch 70/300\n",
      "----------------------------------------\n"
     ]
    },
    {
     "name": "stderr",
     "output_type": "stream",
     "text": [
      "100%|██████████| 10/10 [00:00<00:00, 40.12it/s]\n",
      "100%|██████████| 2/2 [00:00<00:00, 163.48it/s]\n"
     ]
    },
    {
     "name": "stdout",
     "output_type": "stream",
     "text": [
      "Epoch [70/300] - Train Loss: 0.004769, Val Loss: 0.974603\n",
      "========================================\n",
      "Epoch 71/300\n",
      "----------------------------------------\n"
     ]
    },
    {
     "name": "stderr",
     "output_type": "stream",
     "text": [
      "100%|██████████| 10/10 [00:00<00:00, 36.46it/s]\n",
      "100%|██████████| 2/2 [00:00<00:00, 100.56it/s]\n"
     ]
    },
    {
     "name": "stdout",
     "output_type": "stream",
     "text": [
      "Epoch [71/300] - Train Loss: 0.004753, Val Loss: 0.709394\n",
      "========================================\n",
      "Epoch 72/300\n",
      "----------------------------------------\n"
     ]
    },
    {
     "name": "stderr",
     "output_type": "stream",
     "text": [
      "100%|██████████| 10/10 [00:00<00:00, 31.12it/s]\n",
      "100%|██████████| 2/2 [00:00<00:00, 114.55it/s]\n"
     ]
    },
    {
     "name": "stdout",
     "output_type": "stream",
     "text": [
      "Epoch [72/300] - Train Loss: 0.005961, Val Loss: 1.006783\n",
      "========================================\n",
      "Epoch 73/300\n",
      "----------------------------------------\n"
     ]
    },
    {
     "name": "stderr",
     "output_type": "stream",
     "text": [
      "100%|██████████| 10/10 [00:00<00:00, 40.74it/s]\n",
      "100%|██████████| 2/2 [00:00<00:00, 168.84it/s]\n"
     ]
    },
    {
     "name": "stdout",
     "output_type": "stream",
     "text": [
      "Epoch [73/300] - Train Loss: 0.007909, Val Loss: 0.616401\n",
      "========================================\n",
      "Epoch 74/300\n",
      "----------------------------------------\n"
     ]
    },
    {
     "name": "stderr",
     "output_type": "stream",
     "text": [
      "100%|██████████| 10/10 [00:00<00:00, 53.60it/s]\n",
      "100%|██████████| 2/2 [00:00<00:00, 174.85it/s]\n"
     ]
    },
    {
     "name": "stdout",
     "output_type": "stream",
     "text": [
      "Epoch [74/300] - Train Loss: 0.014400, Val Loss: 1.387579\n",
      "========================================\n",
      "Epoch 75/300\n",
      "----------------------------------------\n"
     ]
    },
    {
     "name": "stderr",
     "output_type": "stream",
     "text": [
      "100%|██████████| 10/10 [00:00<00:00, 56.67it/s]\n",
      "100%|██████████| 2/2 [00:00<00:00, 173.42it/s]\n"
     ]
    },
    {
     "name": "stdout",
     "output_type": "stream",
     "text": [
      "Epoch [75/300] - Train Loss: 0.019308, Val Loss: 0.339776\n",
      "Early stopping triggered after epoch 75\n",
      "Test Loss: 0.135696\n",
      "\n",
      "New model is better! Saved with test loss: 0.135696\n",
      "Previous best was: 0.143545\n",
      "\n",
      "Best test loss achieved this training: 0.135696\n"
     ]
    }
   ],
   "source": [
    "# Training the model using the train_loader, val_loader, and test_loader\n",
    "model = model.to(device)\n",
    "\n",
    "criterion = nn.MSELoss()\n",
    "optimizer = torch.optim.Adam(\n",
    "    model.parameters(),\n",
    "    lr=learning_rate,\n",
    "    # weight_decay=l2_penalty\n",
    ")\n",
    "\n",
    "num_epochs = 300\n",
    "best_val_loss = float('inf')\n",
    "patience = 30\n",
    "patience_counter = 0\n",
    "\n",
    "# Load existing model's best validation loss if it exists\n",
    "existing_model_path = '../../models/final_models/cnn_bilstm15.pth'\n",
    "existing_best_val_loss = float('inf')\n",
    "\n",
    "if os.path.exists(existing_model_path):\n",
    "    try:\n",
    "        temp_model = CNNBiLSTM(input_dim=len(features))\n",
    "        temp_model = temp_model.to(device)\n",
    "        temp_model.load_state_dict(torch.load(existing_model_path))\n",
    "        temp_model.eval()\n",
    "        test_loss = 0.0\n",
    "        test_predictions = []\n",
    "        test_targets = []\n",
    "\n",
    "        with torch.no_grad():\n",
    "            for batch_x, batch_y in test_loader:\n",
    "                batch_x, batch_y = batch_x.to(device), batch_y.to(device)\n",
    "\n",
    "                outputs = temp_model(batch_x)\n",
    "                loss = criterion(outputs, batch_y)\n",
    "                test_loss += loss.item()\n",
    "\n",
    "                test_predictions.extend(outputs.cpu().numpy())\n",
    "                test_targets.extend(batch_y.cpu().numpy())\n",
    "\n",
    "        existing_best_val_loss = test_loss / len(test_loader)\n",
    "        print(f'Test Loss: {existing_best_val_loss:.6f}')\n",
    "\n",
    "    except Exception as e:\n",
    "        print(f\"Could not load existing model: {e}\")\n",
    "        existing_best_val_loss = float('inf')\n",
    "\n",
    "train_losses = []\n",
    "val_losses = []\n",
    "\n",
    "print(f\"Training on device: {device}\")\n",
    "print(f\"Model parameters: {sum(p.numel() for p in model.parameters())}\")\n",
    "\n",
    "for epoch in range(num_epochs):\n",
    "\n",
    "    print(f\"{'='*40}\")\n",
    "    print(f\"Epoch {epoch+1}/{num_epochs}\")\n",
    "    print(f\"{'-'*40}\")\n",
    "\n",
    "    model.train()\n",
    "    train_loss = 0.0\n",
    "\n",
    "    for batch_x, batch_y in tqdm(train_loader):\n",
    "        batch_x, batch_y = batch_x.to(device), batch_y.to(device)\n",
    "\n",
    "        # Zero gradients\n",
    "        optimizer.zero_grad()\n",
    "\n",
    "        # Forward pass\n",
    "        outputs = model(batch_x)\n",
    "        loss = criterion(outputs, batch_y)\n",
    "\n",
    "        # Backward pass\n",
    "        loss.backward()\n",
    "        optimizer.step()\n",
    "\n",
    "        train_loss += loss.item()\n",
    "\n",
    "    model.eval()\n",
    "    val_loss = 0.0\n",
    "\n",
    "    with torch.no_grad():\n",
    "        for batch_x, batch_y in tqdm(val_loader):\n",
    "            batch_x, batch_y = batch_x.to(device), batch_y.to(device)\n",
    "\n",
    "            outputs = model(batch_x)\n",
    "            loss = criterion(outputs, batch_y)\n",
    "            val_loss += loss.item()\n",
    "\n",
    "    avg_train_loss = train_loss / len(train_loader)\n",
    "    avg_val_loss = val_loss / len(val_loader)\n",
    "\n",
    "    train_losses.append(avg_train_loss)\n",
    "    val_losses.append(avg_val_loss)\n",
    "\n",
    "    # Early stopping and model saving\n",
    "    if avg_val_loss < best_val_loss:\n",
    "        best_val_loss = avg_val_loss\n",
    "        patience_counter = 0\n",
    "    else:\n",
    "        patience_counter += 1\n",
    "\n",
    "    print(f'Epoch [{epoch+1}/{num_epochs}] - Train Loss: {avg_train_loss:.6f}, Val Loss: {avg_val_loss:.6f}')\n",
    "\n",
    "    # Early stopping check\n",
    "    if patience_counter >= patience:\n",
    "        print(f'Early stopping triggered after epoch {epoch+1}')\n",
    "        break\n",
    "\n",
    "\n",
    "\n",
    "\n",
    "# Test phase\n",
    "model.eval()\n",
    "test_loss = 0.0\n",
    "test_predictions = []\n",
    "test_targets = []\n",
    "\n",
    "with torch.no_grad():\n",
    "    for batch_x, batch_y in test_loader:\n",
    "        batch_x, batch_y = batch_x.to(device), batch_y.to(device)\n",
    "\n",
    "        outputs = model(batch_x)\n",
    "        loss = criterion(outputs, batch_y)\n",
    "        test_loss += loss.item()\n",
    "\n",
    "        test_predictions.extend(outputs.cpu().numpy())\n",
    "        test_targets.extend(batch_y.cpu().numpy())\n",
    "\n",
    "avg_test_loss = test_loss / len(test_loader)\n",
    "print(f'Test Loss: {avg_test_loss:.6f}')\n",
    "\n",
    "# After training is complete, compare with existing model and save only if better\n",
    "if avg_test_loss < existing_best_val_loss:\n",
    "    torch.save(model.state_dict(), existing_model_path)\n",
    "    print(f'\\nNew model is better! Saved with test loss: {avg_test_loss:.6f}')\n",
    "    print(f'Previous best was: {existing_best_val_loss:.6f}')\n",
    "else:\n",
    "    print(f'\\nExisting model is better. Not saving new model.')\n",
    "    print(f'New model test loss: {avg_test_loss:.6f}')\n",
    "    print(f'Existing model validation loss: {existing_best_val_loss:.6f}')\n",
    "\n",
    "print(f'\\nBest test loss achieved this training: {avg_test_loss:.6f}')"
   ]
  },
  {
   "cell_type": "code",
   "execution_count": 10,
   "id": "3b4255ff",
   "metadata": {},
   "outputs": [
    {
     "data": {
      "text/plain": [
       "<All keys matched successfully>"
      ]
     },
     "execution_count": 10,
     "metadata": {},
     "output_type": "execute_result"
    }
   ],
   "source": [
    "model.load_state_dict(torch.load(existing_model_path))"
   ]
  },
  {
   "cell_type": "code",
   "execution_count": 11,
   "id": "cf8b96ee",
   "metadata": {},
   "outputs": [
    {
     "data": {
      "image/png": "[encoded data removed]",
      "text/plain": [
       "<Figure size 1000x500 with 1 Axes>"
      ]
     },
     "metadata": {},
     "output_type": "display_data"
    }
   ],
   "source": [
    "import matplotlib.pyplot as plt\n",
    "\n",
    "# Plot training and validation losses\n",
    "plt.figure(figsize=(10, 5))\n",
    "plt.plot(train_losses, label='Train Loss', color='blue')\n",
    "plt.plot(val_losses, label='Validation Loss', color='orange')\n",
    "plt.xlabel('Epochs')\n",
    "plt.ylabel('Loss')\n",
    "plt.title('Training and Validation Losses')\n",
    "plt.legend()\n",
    "plt.grid()\n",
    "plt.show()"
   ]
  },
  {
   "cell_type": "code",
   "execution_count": 12,
   "id": "09dae5ee",
   "metadata": {},
   "outputs": [
    {
     "name": "stdout",
     "output_type": "stream",
     "text": [
      "Test Loss: 0.135696\n"
     ]
    }
   ],
   "source": [
    "# Test phase\n",
    "model.eval()\n",
    "test_loss = 0.0\n",
    "test_predictions = []\n",
    "test_targets = []\n",
    "\n",
    "with torch.no_grad():\n",
    "    for batch_x, batch_y in test_loader:\n",
    "        batch_x, batch_y = batch_x.to(device), batch_y.to(device)\n",
    "\n",
    "        outputs = model(batch_x)\n",
    "        loss = criterion(outputs, batch_y)\n",
    "        test_loss += loss.item()\n",
    "\n",
    "        test_predictions.extend(outputs.cpu().numpy())\n",
    "        test_targets.extend(batch_y.cpu().numpy())\n",
    "\n",
    "avg_test_loss = test_loss / len(test_loader)\n",
    "print(f'Test Loss: {avg_test_loss:.6f}')\n",
    "\n",
    "# Convert to numpy arrays for analysis\n",
    "test_predictions = np.array(test_predictions)\n",
    "test_targets = np.array(test_targets)"
   ]
  },
  {
   "cell_type": "code",
   "execution_count": 13,
   "id": "53e78350",
   "metadata": {},
   "outputs": [
    {
     "data": {
      "image/png": "[encoded data removed]",
      "text/plain": [
       "<Figure size 1000x500 with 1 Axes>"
      ]
     },
     "metadata": {},
     "output_type": "display_data"
    }
   ],
   "source": [
    "# plot predictions vs targets\n",
    "plt.figure(figsize=(10, 5))\n",
    "plt.plot(test_targets, label='Actual', color='red')\n",
    "plt.plot(test_predictions, label='Predicted', color='blue', linestyle='--')\n",
    "plt.xlabel('Samples')\n",
    "plt.ylabel('Price')\n",
    "plt.title('LSTM Predictions vs Actual Prices')\n",
    "plt.legend()\n",
    "plt.grid()\n",
    "plt.show()"
   ]
  },
  {
   "cell_type": "code",
   "execution_count": null,
   "id": "96f2f3b8",
   "metadata": {},
   "outputs": [],
   "source": []
  }
 ],
 "metadata": {
  "kernelspec": {
   "display_name": "Python 3",
   "language": "python",
   "name": "python3"
  },
  "language_info": {
   "codemirror_mode": {
    "name": "ipython",
    "version": 3
   },
   "file_extension": ".py",
   "mimetype": "text/x-python",
   "name": "python",
   "nbconvert_exporter": "python",
   "pygments_lexer": "ipython3",
   "version": "3.11.13"
  }
 },
 "nbformat": 4,
 "nbformat_minor": 5
}
