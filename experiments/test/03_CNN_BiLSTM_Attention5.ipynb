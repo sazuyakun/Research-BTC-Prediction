{
 "cells": [
  {
   "cell_type": "code",
   "execution_count": 1,
   "id": "f7ddd07f",
   "metadata": {},
   "outputs": [],
   "source": [
    "import sys\n",
    "import os\n",
    "sys.path.append(os.path.abspath(os.path.join(os.getcwd(), '..', '..')))"
   ]
  },
  {
   "cell_type": "code",
   "execution_count": 2,
   "id": "c905393f",
   "metadata": {},
   "outputs": [],
   "source": [
    "from tqdm import tqdm\n",
    "import pandas as pd\n",
    "import numpy as np\n",
    "\n",
    "import torch\n",
    "from torch.utils.data import TensorDataset, DataLoader\n",
    "import torch.nn as nn\n",
    "import torch.nn.functional as F\n",
    "\n",
    "from utils.helper import *"
   ]
  },
  {
   "cell_type": "code",
   "execution_count": 3,
   "id": "f9e3ff12",
   "metadata": {},
   "outputs": [
    {
     "name": "stderr",
     "output_type": "stream",
     "text": [
      "/Users/sohamsamal/Documents/Coding/Research/research-btc-pred/venv/lib/python3.11/site-packages/sklearn/base.py:442: InconsistentVersionWarning: Trying to unpickle estimator StandardScaler from version 1.7.1 when using version 1.7.2. This might lead to breaking code or invalid results. Use at your own risk. For more info please refer to:\n",
      "https://scikit-learn.org/stable/model_persistence.html#security-maintainability-limitations\n",
      "  warnings.warn(\n"
     ]
    }
   ],
   "source": [
    "df = pd.read_csv(\"../../data/Final_Btc_Data_with_Indicators.csv\", parse_dates=['Date'])\n",
    "\n",
    "target_col = \"Price\"\n",
    "features = [col for col in df.columns if col != target_col and col != \"Date\"]\n",
    "\n",
    "df = scaled_data(df)\n",
    "\n",
    "seq_len = 5\n",
    "horizon = 1\n",
    "X, y = create_sequences(df[features].values, df[target_col].values, seq_len, horizon)"
   ]
  },
  {
   "cell_type": "code",
   "execution_count": 4,
   "id": "45b0c237",
   "metadata": {},
   "outputs": [],
   "source": [
    "batch_size = 256\n",
    "\n",
    "train_loader, val_loader, test_loader = data_loaders(df, X, y, batch_size=batch_size)"
   ]
  },
  {
   "cell_type": "code",
   "execution_count": 5,
   "id": "e409dfb1",
   "metadata": {},
   "outputs": [
    {
     "data": {
      "text/plain": [
       "torch.Size([256, 5, 14])"
      ]
     },
     "execution_count": 5,
     "metadata": {},
     "output_type": "execute_result"
    }
   ],
   "source": [
    "next(iter(train_loader))[0].shape"
   ]
  },
  {
   "cell_type": "code",
   "execution_count": 6,
   "id": "35598074",
   "metadata": {},
   "outputs": [],
   "source": [
    "# Define the Attention Block as a separate module for clarity\n",
    "class Attention(nn.Module):\n",
    "    def __init__(self, feature_dim):\n",
    "        super(Attention, self).__init__()\n",
    "        self.attn_dense = nn.Linear(feature_dim, feature_dim)\n",
    "\n",
    "    def forward(self, x):\n",
    "        attn_scores = self.attn_dense(x)\n",
    "        attn_weights = F.softmax(attn_scores, dim=-1)\n",
    "        output_attention_mul = x * attn_weights\n",
    "\n",
    "        return output_attention_mul\n",
    "\n",
    "# Define the main model\n",
    "class CnnBiLSTMAttention(nn.Module):\n",
    "    def __init__(self, input_dims, time_steps, lstm_units, dropout_rate=0.3):\n",
    "        super(CnnBiLSTMAttention, self).__init__()\n",
    "\n",
    "        self.conv1d = nn.Conv1d(in_channels=input_dims, out_channels=96, kernel_size=1)\n",
    "        self.conv_dropout = nn.Dropout(dropout_rate)\n",
    "\n",
    "        self.bilstm = nn.LSTM(\n",
    "            input_size=96,\n",
    "            hidden_size=lstm_units,\n",
    "            num_layers=2,\n",
    "            batch_first=True,\n",
    "            bidirectional=True\n",
    "        )\n",
    "        self.lstm_dropout = nn.Dropout(dropout_rate)\n",
    "\n",
    "        self.attention = Attention(feature_dim=lstm_units * 2)\n",
    "        # self.attention =\n",
    "\n",
    "        self.output_dense = nn.Linear(time_steps * lstm_units * 2, 1)\n",
    "\n",
    "    def forward(self, x):\n",
    "        x = x.permute(0, 2, 1)\n",
    "        x = self.conv1d(x)\n",
    "        x = F.relu(x)\n",
    "        x = x.permute(0, 2, 1)\n",
    "        x = self.conv_dropout(x)\n",
    "\n",
    "        lstm_out, _ = self.bilstm(x)\n",
    "        lstm_out = self.lstm_dropout(lstm_out)\n",
    "\n",
    "        attention_mul = self.attention(lstm_out)\n",
    "\n",
    "        flattened = attention_mul.reshape(attention_mul.size(0), -1)\n",
    "\n",
    "        output = self.output_dense(flattened)\n",
    "\n",
    "        return output"
   ]
  },
  {
   "cell_type": "code",
   "execution_count": 7,
   "id": "fc2c0356",
   "metadata": {},
   "outputs": [
    {
     "name": "stdout",
     "output_type": "stream",
     "text": [
      "Using device: mps\n"
     ]
    }
   ],
   "source": [
    "if torch.backends.mps.is_available():\n",
    "    device = torch.device(\"mps\")\n",
    "elif torch.cuda.is_available():\n",
    "    device = torch.device(\"cuda\")\n",
    "else:\n",
    "    device = torch.device(\"cpu\")\n",
    "\n",
    "print(f\"Using device: {device}\")"
   ]
  },
  {
   "cell_type": "code",
   "execution_count": 8,
   "id": "ed5775e9",
   "metadata": {},
   "outputs": [],
   "source": [
    "model = CnnBiLSTMAttention(input_dims=len(features), time_steps=5, lstm_units=6)"
   ]
  },
  {
   "cell_type": "code",
   "execution_count": 9,
   "id": "8a86f30b",
   "metadata": {},
   "outputs": [],
   "source": [
    "# model(next(iter(train_loader))[0]).shape"
   ]
  },
  {
   "cell_type": "code",
   "execution_count": 10,
   "id": "90899455",
   "metadata": {},
   "outputs": [],
   "source": [
    "decay_rate = 0.8\n",
    "num_epochs = 500\n",
    "learning_rate = 0.001\n",
    "l2_penalty = 0.001"
   ]
  },
  {
   "cell_type": "code",
   "execution_count": 11,
   "id": "ab62899e",
   "metadata": {},
   "outputs": [
    {
     "name": "stdout",
     "output_type": "stream",
     "text": [
      "Could not load existing model: Error(s) in loading state_dict for CnnBiLSTMAttention:\n",
      "\tsize mismatch for bilstm.weight_ih_l0: copying a param with shape torch.Size([24, 96]) from checkpoint, the shape in current model is torch.Size([8, 96]).\n",
      "\tsize mismatch for bilstm.weight_hh_l0: copying a param with shape torch.Size([24, 6]) from checkpoint, the shape in current model is torch.Size([8, 2]).\n",
      "\tsize mismatch for bilstm.bias_ih_l0: copying a param with shape torch.Size([24]) from checkpoint, the shape in current model is torch.Size([8]).\n",
      "\tsize mismatch for bilstm.bias_hh_l0: copying a param with shape torch.Size([24]) from checkpoint, the shape in current model is torch.Size([8]).\n",
      "\tsize mismatch for bilstm.weight_ih_l0_reverse: copying a param with shape torch.Size([24, 96]) from checkpoint, the shape in current model is torch.Size([8, 96]).\n",
      "\tsize mismatch for bilstm.weight_hh_l0_reverse: copying a param with shape torch.Size([24, 6]) from checkpoint, the shape in current model is torch.Size([8, 2]).\n",
      "\tsize mismatch for bilstm.bias_ih_l0_reverse: copying a param with shape torch.Size([24]) from checkpoint, the shape in current model is torch.Size([8]).\n",
      "\tsize mismatch for bilstm.bias_hh_l0_reverse: copying a param with shape torch.Size([24]) from checkpoint, the shape in current model is torch.Size([8]).\n",
      "\tsize mismatch for bilstm.weight_ih_l1: copying a param with shape torch.Size([24, 12]) from checkpoint, the shape in current model is torch.Size([8, 4]).\n",
      "\tsize mismatch for bilstm.weight_hh_l1: copying a param with shape torch.Size([24, 6]) from checkpoint, the shape in current model is torch.Size([8, 2]).\n",
      "\tsize mismatch for bilstm.bias_ih_l1: copying a param with shape torch.Size([24]) from checkpoint, the shape in current model is torch.Size([8]).\n",
      "\tsize mismatch for bilstm.bias_hh_l1: copying a param with shape torch.Size([24]) from checkpoint, the shape in current model is torch.Size([8]).\n",
      "\tsize mismatch for bilstm.weight_ih_l1_reverse: copying a param with shape torch.Size([24, 12]) from checkpoint, the shape in current model is torch.Size([8, 4]).\n",
      "\tsize mismatch for bilstm.weight_hh_l1_reverse: copying a param with shape torch.Size([24, 6]) from checkpoint, the shape in current model is torch.Size([8, 2]).\n",
      "\tsize mismatch for bilstm.bias_ih_l1_reverse: copying a param with shape torch.Size([24]) from checkpoint, the shape in current model is torch.Size([8]).\n",
      "\tsize mismatch for bilstm.bias_hh_l1_reverse: copying a param with shape torch.Size([24]) from checkpoint, the shape in current model is torch.Size([8]).\n",
      "\tsize mismatch for attention.attn_dense.weight: copying a param with shape torch.Size([12, 12]) from checkpoint, the shape in current model is torch.Size([4, 4]).\n",
      "\tsize mismatch for attention.attn_dense.bias: copying a param with shape torch.Size([12]) from checkpoint, the shape in current model is torch.Size([4]).\n",
      "\tsize mismatch for output_dense.weight: copying a param with shape torch.Size([1, 60]) from checkpoint, the shape in current model is torch.Size([1, 20]).\n",
      "Training on device: mps\n",
      "Model parameters: 7609\n",
      "========================================\n",
      "Epoch 1/300\n",
      "----------------------------------------\n"
     ]
    },
    {
     "name": "stderr",
     "output_type": "stream",
     "text": [
      "  0%|          | 0/10 [00:00<?, ?it/s]/Users/sohamsamal/Documents/Coding/Research/research-btc-pred/venv/lib/python3.11/site-packages/torch/nn/modules/loss.py:634: UserWarning: Using a target size (torch.Size([256])) that is different to the input size (torch.Size([256, 1])). This will likely lead to incorrect results due to broadcasting. Please ensure they have the same size.\n",
      "  return F.mse_loss(input, target, reduction=self.reduction)\n",
      " 10%|█         | 1/10 [00:00<00:04,  1.93it/s]/Users/sohamsamal/Documents/Coding/Research/research-btc-pred/venv/lib/python3.11/site-packages/torch/nn/modules/loss.py:634: UserWarning: Using a target size (torch.Size([253])) that is different to the input size (torch.Size([253, 1])). This will likely lead to incorrect results due to broadcasting. Please ensure they have the same size.\n",
      "  return F.mse_loss(input, target, reduction=self.reduction)\n",
      "100%|██████████| 10/10 [00:00<00:00, 14.15it/s]\n",
      "  0%|          | 0/2 [00:00<?, ?it/s]/Users/sohamsamal/Documents/Coding/Research/research-btc-pred/venv/lib/python3.11/site-packages/torch/nn/modules/loss.py:634: UserWarning: Using a target size (torch.Size([109])) that is different to the input size (torch.Size([109, 1])). This will likely lead to incorrect results due to broadcasting. Please ensure they have the same size.\n",
      "  return F.mse_loss(input, target, reduction=self.reduction)\n",
      "100%|██████████| 2/2 [00:00<00:00, 55.52it/s]\n"
     ]
    },
    {
     "name": "stdout",
     "output_type": "stream",
     "text": [
      "Epoch [1/300] - Train Loss: 1.079909, Val Loss: 19.739774\n",
      "========================================\n",
      "Epoch 2/300\n",
      "----------------------------------------\n"
     ]
    },
    {
     "name": "stderr",
     "output_type": "stream",
     "text": [
      "100%|██████████| 10/10 [00:00<00:00, 101.48it/s]\n",
      "100%|██████████| 2/2 [00:00<00:00, 194.76it/s]\n"
     ]
    },
    {
     "name": "stdout",
     "output_type": "stream",
     "text": [
      "Epoch [2/300] - Train Loss: 1.071160, Val Loss: 19.699913\n",
      "========================================\n",
      "Epoch 3/300\n",
      "----------------------------------------\n"
     ]
    },
    {
     "name": "stderr",
     "output_type": "stream",
     "text": [
      "100%|██████████| 10/10 [00:00<00:00, 112.97it/s]\n",
      "100%|██████████| 2/2 [00:00<00:00, 224.95it/s]\n"
     ]
    },
    {
     "name": "stdout",
     "output_type": "stream",
     "text": [
      "Epoch [3/300] - Train Loss: 1.065119, Val Loss: 19.649129\n",
      "========================================\n",
      "Epoch 4/300\n",
      "----------------------------------------\n"
     ]
    },
    {
     "name": "stderr",
     "output_type": "stream",
     "text": [
      "100%|██████████| 10/10 [00:00<00:00, 112.18it/s]\n",
      "100%|██████████| 2/2 [00:00<00:00, 264.98it/s]\n"
     ]
    },
    {
     "name": "stdout",
     "output_type": "stream",
     "text": [
      "Epoch [4/300] - Train Loss: 1.057732, Val Loss: 19.586720\n",
      "========================================\n",
      "Epoch 5/300\n",
      "----------------------------------------\n"
     ]
    },
    {
     "name": "stderr",
     "output_type": "stream",
     "text": [
      "100%|██████████| 10/10 [00:00<00:00, 114.39it/s]\n",
      "100%|██████████| 2/2 [00:00<00:00, 297.41it/s]\n"
     ]
    },
    {
     "name": "stdout",
     "output_type": "stream",
     "text": [
      "Epoch [5/300] - Train Loss: 1.048203, Val Loss: 19.514188\n",
      "========================================\n",
      "Epoch 6/300\n",
      "----------------------------------------\n"
     ]
    },
    {
     "name": "stderr",
     "output_type": "stream",
     "text": [
      "100%|██████████| 10/10 [00:00<00:00, 104.59it/s]\n",
      "100%|██████████| 2/2 [00:00<00:00, 295.73it/s]\n"
     ]
    },
    {
     "name": "stdout",
     "output_type": "stream",
     "text": [
      "Epoch [6/300] - Train Loss: 1.036215, Val Loss: 19.426750\n",
      "========================================\n",
      "Epoch 7/300\n",
      "----------------------------------------\n"
     ]
    },
    {
     "name": "stderr",
     "output_type": "stream",
     "text": [
      "100%|██████████| 10/10 [00:00<00:00, 115.67it/s]\n",
      "100%|██████████| 2/2 [00:00<00:00, 292.48it/s]\n"
     ]
    },
    {
     "name": "stdout",
     "output_type": "stream",
     "text": [
      "Epoch [7/300] - Train Loss: 1.020431, Val Loss: 19.325490\n",
      "========================================\n",
      "Epoch 8/300\n",
      "----------------------------------------\n"
     ]
    },
    {
     "name": "stderr",
     "output_type": "stream",
     "text": [
      "100%|██████████| 10/10 [00:00<00:00, 69.98it/s]\n",
      "100%|██████████| 2/2 [00:00<00:00, 140.09it/s]\n"
     ]
    },
    {
     "name": "stdout",
     "output_type": "stream",
     "text": [
      "Epoch [8/300] - Train Loss: 1.001702, Val Loss: 19.212154\n",
      "========================================\n",
      "Epoch 9/300\n",
      "----------------------------------------\n"
     ]
    },
    {
     "name": "stderr",
     "output_type": "stream",
     "text": [
      "100%|██████████| 10/10 [00:00<00:00, 67.75it/s]\n",
      "100%|██████████| 2/2 [00:00<00:00, 47.09it/s]\n"
     ]
    },
    {
     "name": "stdout",
     "output_type": "stream",
     "text": [
      "Epoch [9/300] - Train Loss: 0.977380, Val Loss: 19.084996\n",
      "========================================\n",
      "Epoch 10/300\n",
      "----------------------------------------\n"
     ]
    },
    {
     "name": "stderr",
     "output_type": "stream",
     "text": [
      "100%|██████████| 10/10 [00:00<00:00, 63.15it/s]\n",
      "100%|██████████| 2/2 [00:00<00:00, 240.33it/s]\n"
     ]
    },
    {
     "name": "stdout",
     "output_type": "stream",
     "text": [
      "Epoch [10/300] - Train Loss: 0.949069, Val Loss: 18.937132\n",
      "========================================\n",
      "Epoch 11/300\n",
      "----------------------------------------\n"
     ]
    },
    {
     "name": "stderr",
     "output_type": "stream",
     "text": [
      "100%|██████████| 10/10 [00:00<00:00, 105.86it/s]\n",
      "100%|██████████| 2/2 [00:00<00:00, 296.92it/s]\n"
     ]
    },
    {
     "name": "stdout",
     "output_type": "stream",
     "text": [
      "Epoch [11/300] - Train Loss: 0.917171, Val Loss: 18.732119\n",
      "========================================\n",
      "Epoch 12/300\n",
      "----------------------------------------\n"
     ]
    },
    {
     "name": "stderr",
     "output_type": "stream",
     "text": [
      "100%|██████████| 10/10 [00:00<00:00, 111.73it/s]\n",
      "100%|██████████| 2/2 [00:00<00:00, 308.40it/s]\n"
     ]
    },
    {
     "name": "stdout",
     "output_type": "stream",
     "text": [
      "Epoch [12/300] - Train Loss: 0.884619, Val Loss: 18.432755\n",
      "========================================\n",
      "Epoch 13/300\n",
      "----------------------------------------\n"
     ]
    },
    {
     "name": "stderr",
     "output_type": "stream",
     "text": [
      "100%|██████████| 10/10 [00:00<00:00, 117.97it/s]\n",
      "100%|██████████| 2/2 [00:00<00:00, 296.25it/s]\n"
     ]
    },
    {
     "name": "stdout",
     "output_type": "stream",
     "text": [
      "Epoch [13/300] - Train Loss: 0.850659, Val Loss: 18.084714\n",
      "========================================\n",
      "Epoch 14/300\n",
      "----------------------------------------\n"
     ]
    },
    {
     "name": "stderr",
     "output_type": "stream",
     "text": [
      "100%|██████████| 10/10 [00:00<00:00, 120.15it/s]\n",
      "100%|██████████| 2/2 [00:00<00:00, 326.74it/s]\n"
     ]
    },
    {
     "name": "stdout",
     "output_type": "stream",
     "text": [
      "Epoch [14/300] - Train Loss: 0.824140, Val Loss: 17.732030\n",
      "========================================\n",
      "Epoch 15/300\n",
      "----------------------------------------\n"
     ]
    },
    {
     "name": "stderr",
     "output_type": "stream",
     "text": [
      "100%|██████████| 10/10 [00:00<00:00, 122.90it/s]\n",
      "100%|██████████| 2/2 [00:00<00:00, 331.46it/s]\n"
     ]
    },
    {
     "name": "stdout",
     "output_type": "stream",
     "text": [
      "Epoch [15/300] - Train Loss: 0.799008, Val Loss: 17.396681\n",
      "========================================\n",
      "Epoch 16/300\n",
      "----------------------------------------\n"
     ]
    },
    {
     "name": "stderr",
     "output_type": "stream",
     "text": [
      "100%|██████████| 10/10 [00:00<00:00, 123.34it/s]\n",
      "100%|██████████| 2/2 [00:00<00:00, 294.03it/s]\n"
     ]
    },
    {
     "name": "stdout",
     "output_type": "stream",
     "text": [
      "Epoch [16/300] - Train Loss: 0.778983, Val Loss: 17.076908\n",
      "========================================\n",
      "Epoch 17/300\n",
      "----------------------------------------\n"
     ]
    },
    {
     "name": "stderr",
     "output_type": "stream",
     "text": [
      "100%|██████████| 10/10 [00:00<00:00, 117.72it/s]\n",
      "100%|██████████| 2/2 [00:00<00:00, 296.99it/s]\n"
     ]
    },
    {
     "name": "stdout",
     "output_type": "stream",
     "text": [
      "Epoch [17/300] - Train Loss: 0.765163, Val Loss: 16.769933\n",
      "========================================\n",
      "Epoch 18/300\n",
      "----------------------------------------\n"
     ]
    },
    {
     "name": "stderr",
     "output_type": "stream",
     "text": [
      "100%|██████████| 10/10 [00:00<00:00, 108.21it/s]\n",
      "100%|██████████| 2/2 [00:00<00:00, 326.38it/s]\n"
     ]
    },
    {
     "name": "stdout",
     "output_type": "stream",
     "text": [
      "Epoch [18/300] - Train Loss: 0.748700, Val Loss: 16.475608\n",
      "========================================\n",
      "Epoch 19/300\n",
      "----------------------------------------\n"
     ]
    },
    {
     "name": "stderr",
     "output_type": "stream",
     "text": [
      "100%|██████████| 10/10 [00:00<00:00, 92.84it/s]\n",
      "100%|██████████| 2/2 [00:00<00:00, 152.91it/s]\n"
     ]
    },
    {
     "name": "stdout",
     "output_type": "stream",
     "text": [
      "Epoch [19/300] - Train Loss: 0.736240, Val Loss: 16.195191\n",
      "========================================\n",
      "Epoch 20/300\n",
      "----------------------------------------\n"
     ]
    },
    {
     "name": "stderr",
     "output_type": "stream",
     "text": [
      "100%|██████████| 10/10 [00:00<00:00, 40.11it/s]\n",
      "100%|██████████| 2/2 [00:00<00:00, 304.80it/s]\n"
     ]
    },
    {
     "name": "stdout",
     "output_type": "stream",
     "text": [
      "Epoch [20/300] - Train Loss: 0.725800, Val Loss: 15.931960\n",
      "========================================\n",
      "Epoch 21/300\n",
      "----------------------------------------\n"
     ]
    },
    {
     "name": "stderr",
     "output_type": "stream",
     "text": [
      "100%|██████████| 10/10 [00:00<00:00, 91.02it/s]\n",
      "100%|██████████| 2/2 [00:00<00:00, 169.36it/s]\n"
     ]
    },
    {
     "name": "stdout",
     "output_type": "stream",
     "text": [
      "Epoch [21/300] - Train Loss: 0.713798, Val Loss: 15.676611\n",
      "========================================\n",
      "Epoch 22/300\n",
      "----------------------------------------\n"
     ]
    },
    {
     "name": "stderr",
     "output_type": "stream",
     "text": [
      "100%|██████████| 10/10 [00:00<00:00, 88.70it/s]\n",
      "100%|██████████| 2/2 [00:00<00:00, 258.23it/s]\n"
     ]
    },
    {
     "name": "stdout",
     "output_type": "stream",
     "text": [
      "Epoch [22/300] - Train Loss: 0.707604, Val Loss: 15.419344\n",
      "========================================\n",
      "Epoch 23/300\n",
      "----------------------------------------\n"
     ]
    },
    {
     "name": "stderr",
     "output_type": "stream",
     "text": [
      "100%|██████████| 10/10 [00:00<00:00, 62.71it/s]\n",
      "100%|██████████| 2/2 [00:00<00:00, 132.43it/s]\n"
     ]
    },
    {
     "name": "stdout",
     "output_type": "stream",
     "text": [
      "Epoch [23/300] - Train Loss: 0.693746, Val Loss: 15.177234\n",
      "========================================\n",
      "Epoch 24/300\n",
      "----------------------------------------\n"
     ]
    },
    {
     "name": "stderr",
     "output_type": "stream",
     "text": [
      "100%|██████████| 10/10 [00:00<00:00, 88.43it/s]\n",
      "100%|██████████| 2/2 [00:00<00:00, 271.14it/s]\n"
     ]
    },
    {
     "name": "stdout",
     "output_type": "stream",
     "text": [
      "Epoch [24/300] - Train Loss: 0.687497, Val Loss: 14.951964\n",
      "========================================\n",
      "Epoch 25/300\n",
      "----------------------------------------\n"
     ]
    },
    {
     "name": "stderr",
     "output_type": "stream",
     "text": [
      "100%|██████████| 10/10 [00:00<00:00, 88.54it/s]\n",
      "100%|██████████| 2/2 [00:00<00:00, 289.09it/s]\n"
     ]
    },
    {
     "name": "stdout",
     "output_type": "stream",
     "text": [
      "Epoch [25/300] - Train Loss: 0.671297, Val Loss: 14.735055\n",
      "========================================\n",
      "Epoch 26/300\n",
      "----------------------------------------\n"
     ]
    },
    {
     "name": "stderr",
     "output_type": "stream",
     "text": [
      "100%|██████████| 10/10 [00:00<00:00, 65.00it/s]\n",
      "100%|██████████| 2/2 [00:00<00:00, 284.09it/s]\n"
     ]
    },
    {
     "name": "stdout",
     "output_type": "stream",
     "text": [
      "Epoch [26/300] - Train Loss: 0.663948, Val Loss: 14.539594\n",
      "========================================\n",
      "Epoch 27/300\n",
      "----------------------------------------\n"
     ]
    },
    {
     "name": "stderr",
     "output_type": "stream",
     "text": [
      "100%|██████████| 10/10 [00:00<00:00, 78.39it/s]\n",
      "100%|██████████| 2/2 [00:00<00:00, 137.82it/s]\n"
     ]
    },
    {
     "name": "stdout",
     "output_type": "stream",
     "text": [
      "Epoch [27/300] - Train Loss: 0.654515, Val Loss: 14.346728\n",
      "========================================\n",
      "Epoch 28/300\n",
      "----------------------------------------\n"
     ]
    },
    {
     "name": "stderr",
     "output_type": "stream",
     "text": [
      "100%|██████████| 10/10 [00:00<00:00, 65.36it/s]\n",
      "100%|██████████| 2/2 [00:00<00:00, 207.12it/s]\n"
     ]
    },
    {
     "name": "stdout",
     "output_type": "stream",
     "text": [
      "Epoch [28/300] - Train Loss: 0.646359, Val Loss: 14.131644\n",
      "========================================\n",
      "Epoch 29/300\n",
      "----------------------------------------\n"
     ]
    },
    {
     "name": "stderr",
     "output_type": "stream",
     "text": [
      "100%|██████████| 10/10 [00:00<00:00, 113.47it/s]\n",
      "100%|██████████| 2/2 [00:00<00:00, 247.40it/s]\n"
     ]
    },
    {
     "name": "stdout",
     "output_type": "stream",
     "text": [
      "Epoch [29/300] - Train Loss: 0.633480, Val Loss: 13.885843\n",
      "========================================\n",
      "Epoch 30/300\n",
      "----------------------------------------\n"
     ]
    },
    {
     "name": "stderr",
     "output_type": "stream",
     "text": [
      "100%|██████████| 10/10 [00:00<00:00, 76.84it/s]\n",
      "100%|██████████| 2/2 [00:00<00:00, 279.96it/s]\n"
     ]
    },
    {
     "name": "stdout",
     "output_type": "stream",
     "text": [
      "Epoch [30/300] - Train Loss: 0.621549, Val Loss: 13.661605\n",
      "========================================\n",
      "Epoch 31/300\n",
      "----------------------------------------\n"
     ]
    },
    {
     "name": "stderr",
     "output_type": "stream",
     "text": [
      "100%|██████████| 10/10 [00:00<00:00, 113.19it/s]\n",
      "100%|██████████| 2/2 [00:00<00:00, 161.58it/s]\n"
     ]
    },
    {
     "name": "stdout",
     "output_type": "stream",
     "text": [
      "Epoch [31/300] - Train Loss: 0.613355, Val Loss: 13.454557\n",
      "========================================\n",
      "Epoch 32/300\n",
      "----------------------------------------\n"
     ]
    },
    {
     "name": "stderr",
     "output_type": "stream",
     "text": [
      "100%|██████████| 10/10 [00:00<00:00, 81.83it/s]\n",
      "100%|██████████| 2/2 [00:00<00:00, 208.02it/s]\n"
     ]
    },
    {
     "name": "stdout",
     "output_type": "stream",
     "text": [
      "Epoch [32/300] - Train Loss: 0.603709, Val Loss: 13.224040\n",
      "========================================\n",
      "Epoch 33/300\n",
      "----------------------------------------\n"
     ]
    },
    {
     "name": "stderr",
     "output_type": "stream",
     "text": [
      "100%|██████████| 10/10 [00:00<00:00, 92.46it/s]\n",
      "100%|██████████| 2/2 [00:00<00:00, 154.08it/s]\n"
     ]
    },
    {
     "name": "stdout",
     "output_type": "stream",
     "text": [
      "Epoch [33/300] - Train Loss: 0.594922, Val Loss: 13.032246\n",
      "========================================\n",
      "Epoch 34/300\n",
      "----------------------------------------\n"
     ]
    },
    {
     "name": "stderr",
     "output_type": "stream",
     "text": [
      "100%|██████████| 10/10 [00:00<00:00, 82.83it/s]\n",
      "100%|██████████| 2/2 [00:00<00:00, 149.36it/s]\n"
     ]
    },
    {
     "name": "stdout",
     "output_type": "stream",
     "text": [
      "Epoch [34/300] - Train Loss: 0.587607, Val Loss: 12.841001\n",
      "========================================\n",
      "Epoch 35/300\n",
      "----------------------------------------\n"
     ]
    },
    {
     "name": "stderr",
     "output_type": "stream",
     "text": [
      "100%|██████████| 10/10 [00:00<00:00, 67.95it/s]\n",
      "100%|██████████| 2/2 [00:00<00:00, 277.42it/s]\n"
     ]
    },
    {
     "name": "stdout",
     "output_type": "stream",
     "text": [
      "Epoch [35/300] - Train Loss: 0.578206, Val Loss: 12.690067\n",
      "========================================\n",
      "Epoch 36/300\n",
      "----------------------------------------\n"
     ]
    },
    {
     "name": "stderr",
     "output_type": "stream",
     "text": [
      "100%|██████████| 10/10 [00:00<00:00, 64.11it/s]\n",
      "100%|██████████| 2/2 [00:00<00:00, 283.72it/s]\n"
     ]
    },
    {
     "name": "stdout",
     "output_type": "stream",
     "text": [
      "Epoch [36/300] - Train Loss: 0.569698, Val Loss: 12.512993\n",
      "========================================\n",
      "Epoch 37/300\n",
      "----------------------------------------\n"
     ]
    },
    {
     "name": "stderr",
     "output_type": "stream",
     "text": [
      "100%|██████████| 10/10 [00:00<00:00, 69.72it/s]\n",
      "100%|██████████| 2/2 [00:00<00:00, 127.07it/s]\n"
     ]
    },
    {
     "name": "stdout",
     "output_type": "stream",
     "text": [
      "Epoch [37/300] - Train Loss: 0.568841, Val Loss: 12.347690\n",
      "========================================\n",
      "Epoch 38/300\n",
      "----------------------------------------\n"
     ]
    },
    {
     "name": "stderr",
     "output_type": "stream",
     "text": [
      "100%|██████████| 10/10 [00:00<00:00, 76.14it/s]\n",
      "100%|██████████| 2/2 [00:00<00:00, 152.70it/s]\n"
     ]
    },
    {
     "name": "stdout",
     "output_type": "stream",
     "text": [
      "Epoch [38/300] - Train Loss: 0.549016, Val Loss: 12.205673\n",
      "========================================\n",
      "Epoch 39/300\n",
      "----------------------------------------\n"
     ]
    },
    {
     "name": "stderr",
     "output_type": "stream",
     "text": [
      "100%|██████████| 10/10 [00:00<00:00, 60.54it/s]\n",
      "100%|██████████| 2/2 [00:00<00:00, 254.13it/s]\n"
     ]
    },
    {
     "name": "stdout",
     "output_type": "stream",
     "text": [
      "Epoch [39/300] - Train Loss: 0.546017, Val Loss: 12.114274\n",
      "========================================\n",
      "Epoch 40/300\n",
      "----------------------------------------\n"
     ]
    },
    {
     "name": "stderr",
     "output_type": "stream",
     "text": [
      "100%|██████████| 10/10 [00:00<00:00, 41.48it/s]\n",
      "100%|██████████| 2/2 [00:00<00:00, 111.12it/s]\n"
     ]
    },
    {
     "name": "stdout",
     "output_type": "stream",
     "text": [
      "Epoch [40/300] - Train Loss: 0.536795, Val Loss: 12.053085\n",
      "========================================\n",
      "Epoch 41/300\n",
      "----------------------------------------\n"
     ]
    },
    {
     "name": "stderr",
     "output_type": "stream",
     "text": [
      "100%|██████████| 10/10 [00:00<00:00, 70.91it/s]\n",
      "100%|██████████| 2/2 [00:00<00:00, 140.01it/s]\n"
     ]
    },
    {
     "name": "stdout",
     "output_type": "stream",
     "text": [
      "Epoch [41/300] - Train Loss: 0.541266, Val Loss: 11.819510\n",
      "========================================\n",
      "Epoch 42/300\n",
      "----------------------------------------\n"
     ]
    },
    {
     "name": "stderr",
     "output_type": "stream",
     "text": [
      "100%|██████████| 10/10 [00:00<00:00, 54.73it/s]\n",
      "100%|██████████| 2/2 [00:00<00:00, 259.49it/s]\n"
     ]
    },
    {
     "name": "stdout",
     "output_type": "stream",
     "text": [
      "Epoch [42/300] - Train Loss: 0.528801, Val Loss: 11.744179\n",
      "========================================\n",
      "Epoch 43/300\n",
      "----------------------------------------\n"
     ]
    },
    {
     "name": "stderr",
     "output_type": "stream",
     "text": [
      "100%|██████████| 10/10 [00:00<00:00, 39.16it/s]\n",
      "100%|██████████| 2/2 [00:00<00:00, 285.56it/s]\n"
     ]
    },
    {
     "name": "stdout",
     "output_type": "stream",
     "text": [
      "Epoch [43/300] - Train Loss: 0.519667, Val Loss: 11.661612\n",
      "========================================\n",
      "Epoch 44/300\n",
      "----------------------------------------\n"
     ]
    },
    {
     "name": "stderr",
     "output_type": "stream",
     "text": [
      "100%|██████████| 10/10 [00:00<00:00, 87.51it/s]\n",
      "100%|██████████| 2/2 [00:00<00:00, 232.88it/s]\n"
     ]
    },
    {
     "name": "stdout",
     "output_type": "stream",
     "text": [
      "Epoch [44/300] - Train Loss: 0.517618, Val Loss: 11.650513\n",
      "========================================\n",
      "Epoch 45/300\n",
      "----------------------------------------\n"
     ]
    },
    {
     "name": "stderr",
     "output_type": "stream",
     "text": [
      "100%|██████████| 10/10 [00:00<00:00, 82.44it/s]\n",
      "100%|██████████| 2/2 [00:00<00:00, 157.01it/s]\n"
     ]
    },
    {
     "name": "stdout",
     "output_type": "stream",
     "text": [
      "Epoch [45/300] - Train Loss: 0.516239, Val Loss: 11.441581\n",
      "========================================\n",
      "Epoch 46/300\n",
      "----------------------------------------\n"
     ]
    },
    {
     "name": "stderr",
     "output_type": "stream",
     "text": [
      "100%|██████████| 10/10 [00:00<00:00, 61.86it/s]\n",
      "100%|██████████| 2/2 [00:00<00:00, 137.87it/s]\n"
     ]
    },
    {
     "name": "stdout",
     "output_type": "stream",
     "text": [
      "Epoch [46/300] - Train Loss: 0.507439, Val Loss: 11.312595\n",
      "========================================\n",
      "Epoch 47/300\n",
      "----------------------------------------\n"
     ]
    },
    {
     "name": "stderr",
     "output_type": "stream",
     "text": [
      "100%|██████████| 10/10 [00:00<00:00, 60.05it/s]\n",
      "100%|██████████| 2/2 [00:00<00:00, 133.83it/s]\n"
     ]
    },
    {
     "name": "stdout",
     "output_type": "stream",
     "text": [
      "Epoch [47/300] - Train Loss: 0.502804, Val Loss: 11.160955\n",
      "========================================\n",
      "Epoch 48/300\n",
      "----------------------------------------\n"
     ]
    },
    {
     "name": "stderr",
     "output_type": "stream",
     "text": [
      "100%|██████████| 10/10 [00:00<00:00, 58.30it/s]\n",
      "100%|██████████| 2/2 [00:00<00:00, 262.23it/s]\n"
     ]
    },
    {
     "name": "stdout",
     "output_type": "stream",
     "text": [
      "Epoch [48/300] - Train Loss: 0.496906, Val Loss: 11.076638\n",
      "========================================\n",
      "Epoch 49/300\n",
      "----------------------------------------\n"
     ]
    },
    {
     "name": "stderr",
     "output_type": "stream",
     "text": [
      "100%|██████████| 10/10 [00:00<00:00, 84.59it/s]\n",
      "100%|██████████| 2/2 [00:00<00:00, 140.63it/s]\n"
     ]
    },
    {
     "name": "stdout",
     "output_type": "stream",
     "text": [
      "Epoch [49/300] - Train Loss: 0.491576, Val Loss: 11.049456\n",
      "========================================\n",
      "Epoch 50/300\n",
      "----------------------------------------\n"
     ]
    },
    {
     "name": "stderr",
     "output_type": "stream",
     "text": [
      "100%|██████████| 10/10 [00:00<00:00, 60.50it/s]\n",
      "100%|██████████| 2/2 [00:00<00:00, 266.38it/s]\n"
     ]
    },
    {
     "name": "stdout",
     "output_type": "stream",
     "text": [
      "Epoch [50/300] - Train Loss: 0.477183, Val Loss: 10.999410\n",
      "========================================\n",
      "Epoch 51/300\n",
      "----------------------------------------\n"
     ]
    },
    {
     "name": "stderr",
     "output_type": "stream",
     "text": [
      "100%|██████████| 10/10 [00:00<00:00, 70.85it/s]\n",
      "100%|██████████| 2/2 [00:00<00:00, 241.40it/s]\n"
     ]
    },
    {
     "name": "stdout",
     "output_type": "stream",
     "text": [
      "Epoch [51/300] - Train Loss: 0.471955, Val Loss: 10.898565\n",
      "========================================\n",
      "Epoch 52/300\n",
      "----------------------------------------\n"
     ]
    },
    {
     "name": "stderr",
     "output_type": "stream",
     "text": [
      "100%|██████████| 10/10 [00:00<00:00, 79.80it/s]\n",
      "100%|██████████| 2/2 [00:00<00:00, 285.72it/s]\n"
     ]
    },
    {
     "name": "stdout",
     "output_type": "stream",
     "text": [
      "Epoch [52/300] - Train Loss: 0.479822, Val Loss: 10.863499\n",
      "========================================\n",
      "Epoch 53/300\n",
      "----------------------------------------\n"
     ]
    },
    {
     "name": "stderr",
     "output_type": "stream",
     "text": [
      "100%|██████████| 10/10 [00:00<00:00, 89.83it/s]\n",
      "100%|██████████| 2/2 [00:00<00:00, 166.60it/s]\n"
     ]
    },
    {
     "name": "stdout",
     "output_type": "stream",
     "text": [
      "Epoch [53/300] - Train Loss: 0.468971, Val Loss: 10.608159\n",
      "========================================\n",
      "Epoch 54/300\n",
      "----------------------------------------\n"
     ]
    },
    {
     "name": "stderr",
     "output_type": "stream",
     "text": [
      "100%|██████████| 10/10 [00:00<00:00, 68.60it/s]\n",
      "100%|██████████| 2/2 [00:00<00:00, 274.27it/s]\n"
     ]
    },
    {
     "name": "stdout",
     "output_type": "stream",
     "text": [
      "Epoch [54/300] - Train Loss: 0.468469, Val Loss: 10.673253\n",
      "========================================\n",
      "Epoch 55/300\n",
      "----------------------------------------\n"
     ]
    },
    {
     "name": "stderr",
     "output_type": "stream",
     "text": [
      "100%|██████████| 10/10 [00:00<00:00, 83.24it/s]\n",
      "100%|██████████| 2/2 [00:00<00:00, 246.18it/s]\n"
     ]
    },
    {
     "name": "stdout",
     "output_type": "stream",
     "text": [
      "Epoch [55/300] - Train Loss: 0.457419, Val Loss: 10.563058\n",
      "========================================\n",
      "Epoch 56/300\n",
      "----------------------------------------\n"
     ]
    },
    {
     "name": "stderr",
     "output_type": "stream",
     "text": [
      "100%|██████████| 10/10 [00:00<00:00, 80.43it/s]\n",
      "100%|██████████| 2/2 [00:00<00:00, 138.76it/s]\n"
     ]
    },
    {
     "name": "stdout",
     "output_type": "stream",
     "text": [
      "Epoch [56/300] - Train Loss: 0.459796, Val Loss: 10.494021\n",
      "========================================\n",
      "Epoch 57/300\n",
      "----------------------------------------\n"
     ]
    },
    {
     "name": "stderr",
     "output_type": "stream",
     "text": [
      "100%|██████████| 10/10 [00:00<00:00, 87.88it/s]\n",
      "100%|██████████| 2/2 [00:00<00:00, 271.93it/s]\n"
     ]
    },
    {
     "name": "stdout",
     "output_type": "stream",
     "text": [
      "Epoch [57/300] - Train Loss: 0.453856, Val Loss: 10.526340\n",
      "========================================\n",
      "Epoch 58/300\n",
      "----------------------------------------\n"
     ]
    },
    {
     "name": "stderr",
     "output_type": "stream",
     "text": [
      "100%|██████████| 10/10 [00:00<00:00, 87.87it/s]\n",
      "100%|██████████| 2/2 [00:00<00:00, 145.82it/s]\n"
     ]
    },
    {
     "name": "stdout",
     "output_type": "stream",
     "text": [
      "Epoch [58/300] - Train Loss: 0.455001, Val Loss: 10.614752\n",
      "========================================\n",
      "Epoch 59/300\n",
      "----------------------------------------\n"
     ]
    },
    {
     "name": "stderr",
     "output_type": "stream",
     "text": [
      "100%|██████████| 10/10 [00:00<00:00, 77.22it/s]\n",
      "100%|██████████| 2/2 [00:00<00:00, 285.07it/s]\n"
     ]
    },
    {
     "name": "stdout",
     "output_type": "stream",
     "text": [
      "Epoch [59/300] - Train Loss: 0.449881, Val Loss: 10.391087\n",
      "========================================\n",
      "Epoch 60/300\n",
      "----------------------------------------\n"
     ]
    },
    {
     "name": "stderr",
     "output_type": "stream",
     "text": [
      "100%|██████████| 10/10 [00:00<00:00, 80.00it/s]\n",
      "100%|██████████| 2/2 [00:00<00:00, 286.91it/s]\n"
     ]
    },
    {
     "name": "stdout",
     "output_type": "stream",
     "text": [
      "Epoch [60/300] - Train Loss: 0.450843, Val Loss: 10.385173\n",
      "========================================\n",
      "Epoch 61/300\n",
      "----------------------------------------\n"
     ]
    },
    {
     "name": "stderr",
     "output_type": "stream",
     "text": [
      "100%|██████████| 10/10 [00:00<00:00, 99.19it/s]\n",
      "100%|██████████| 2/2 [00:00<00:00, 270.44it/s]\n"
     ]
    },
    {
     "name": "stdout",
     "output_type": "stream",
     "text": [
      "Epoch [61/300] - Train Loss: 0.446070, Val Loss: 10.590899\n",
      "========================================\n",
      "Epoch 62/300\n",
      "----------------------------------------\n"
     ]
    },
    {
     "name": "stderr",
     "output_type": "stream",
     "text": [
      "100%|██████████| 10/10 [00:00<00:00, 89.77it/s]\n",
      "100%|██████████| 2/2 [00:00<00:00, 250.59it/s]\n"
     ]
    },
    {
     "name": "stdout",
     "output_type": "stream",
     "text": [
      "Epoch [62/300] - Train Loss: 0.444367, Val Loss: 10.809180\n",
      "========================================\n",
      "Epoch 63/300\n",
      "----------------------------------------\n"
     ]
    },
    {
     "name": "stderr",
     "output_type": "stream",
     "text": [
      "100%|██████████| 10/10 [00:00<00:00, 98.15it/s]\n",
      "100%|██████████| 2/2 [00:00<00:00, 312.66it/s]\n"
     ]
    },
    {
     "name": "stdout",
     "output_type": "stream",
     "text": [
      "Epoch [63/300] - Train Loss: 0.449021, Val Loss: 10.655660\n",
      "========================================\n",
      "Epoch 64/300\n",
      "----------------------------------------\n"
     ]
    },
    {
     "name": "stderr",
     "output_type": "stream",
     "text": [
      "100%|██████████| 10/10 [00:00<00:00, 108.64it/s]\n",
      "100%|██████████| 2/2 [00:00<00:00, 291.08it/s]\n"
     ]
    },
    {
     "name": "stdout",
     "output_type": "stream",
     "text": [
      "Epoch [64/300] - Train Loss: 0.437880, Val Loss: 10.248886\n",
      "========================================\n",
      "Epoch 65/300\n",
      "----------------------------------------\n"
     ]
    },
    {
     "name": "stderr",
     "output_type": "stream",
     "text": [
      "100%|██████████| 10/10 [00:00<00:00, 110.52it/s]\n",
      "100%|██████████| 2/2 [00:00<00:00, 187.38it/s]\n"
     ]
    },
    {
     "name": "stdout",
     "output_type": "stream",
     "text": [
      "Epoch [65/300] - Train Loss: 0.441893, Val Loss: 10.618051\n",
      "========================================\n",
      "Epoch 66/300\n",
      "----------------------------------------\n"
     ]
    },
    {
     "name": "stderr",
     "output_type": "stream",
     "text": [
      "100%|██████████| 10/10 [00:00<00:00, 86.65it/s]\n",
      "100%|██████████| 2/2 [00:00<00:00, 160.13it/s]\n"
     ]
    },
    {
     "name": "stdout",
     "output_type": "stream",
     "text": [
      "Epoch [66/300] - Train Loss: 0.442237, Val Loss: 10.802883\n",
      "========================================\n",
      "Epoch 67/300\n",
      "----------------------------------------\n"
     ]
    },
    {
     "name": "stderr",
     "output_type": "stream",
     "text": [
      "100%|██████████| 10/10 [00:00<00:00, 67.41it/s]\n",
      "100%|██████████| 2/2 [00:00<00:00, 301.92it/s]\n"
     ]
    },
    {
     "name": "stdout",
     "output_type": "stream",
     "text": [
      "Epoch [67/300] - Train Loss: 0.435947, Val Loss: 10.101518\n",
      "========================================\n",
      "Epoch 68/300\n",
      "----------------------------------------\n"
     ]
    },
    {
     "name": "stderr",
     "output_type": "stream",
     "text": [
      "100%|██████████| 10/10 [00:00<00:00, 85.22it/s]\n",
      "100%|██████████| 2/2 [00:00<00:00, 216.75it/s]\n"
     ]
    },
    {
     "name": "stdout",
     "output_type": "stream",
     "text": [
      "Epoch [68/300] - Train Loss: 0.427911, Val Loss: 10.002076\n",
      "========================================\n",
      "Epoch 69/300\n",
      "----------------------------------------\n"
     ]
    },
    {
     "name": "stderr",
     "output_type": "stream",
     "text": [
      "100%|██████████| 10/10 [00:00<00:00, 81.28it/s]\n",
      "100%|██████████| 2/2 [00:00<00:00, 204.37it/s]\n"
     ]
    },
    {
     "name": "stdout",
     "output_type": "stream",
     "text": [
      "Epoch [69/300] - Train Loss: 0.430409, Val Loss: 10.128181\n",
      "========================================\n",
      "Epoch 70/300\n",
      "----------------------------------------\n"
     ]
    },
    {
     "name": "stderr",
     "output_type": "stream",
     "text": [
      "100%|██████████| 10/10 [00:00<00:00, 86.01it/s]\n",
      "100%|██████████| 2/2 [00:00<00:00, 277.04it/s]\n"
     ]
    },
    {
     "name": "stdout",
     "output_type": "stream",
     "text": [
      "Epoch [70/300] - Train Loss: 0.434156, Val Loss: 10.141818\n",
      "========================================\n",
      "Epoch 71/300\n",
      "----------------------------------------\n"
     ]
    },
    {
     "name": "stderr",
     "output_type": "stream",
     "text": [
      "100%|██████████| 10/10 [00:00<00:00, 85.15it/s]\n",
      "100%|██████████| 2/2 [00:00<00:00, 249.38it/s]\n"
     ]
    },
    {
     "name": "stdout",
     "output_type": "stream",
     "text": [
      "Epoch [71/300] - Train Loss: 0.429646, Val Loss: 10.265757\n",
      "========================================\n",
      "Epoch 72/300\n",
      "----------------------------------------\n"
     ]
    },
    {
     "name": "stderr",
     "output_type": "stream",
     "text": [
      "100%|██████████| 10/10 [00:00<00:00, 80.91it/s]\n",
      "100%|██████████| 2/2 [00:00<00:00, 261.88it/s]\n"
     ]
    },
    {
     "name": "stdout",
     "output_type": "stream",
     "text": [
      "Epoch [72/300] - Train Loss: 0.419707, Val Loss: 10.152470\n",
      "========================================\n",
      "Epoch 73/300\n",
      "----------------------------------------\n"
     ]
    },
    {
     "name": "stderr",
     "output_type": "stream",
     "text": [
      "100%|██████████| 10/10 [00:00<00:00, 85.75it/s]\n",
      "100%|██████████| 2/2 [00:00<00:00, 217.98it/s]\n"
     ]
    },
    {
     "name": "stdout",
     "output_type": "stream",
     "text": [
      "Epoch [73/300] - Train Loss: 0.418650, Val Loss: 10.232455\n",
      "========================================\n",
      "Epoch 74/300\n",
      "----------------------------------------\n"
     ]
    },
    {
     "name": "stderr",
     "output_type": "stream",
     "text": [
      "100%|██████████| 10/10 [00:00<00:00, 85.73it/s]\n",
      "100%|██████████| 2/2 [00:00<00:00, 167.56it/s]\n"
     ]
    },
    {
     "name": "stdout",
     "output_type": "stream",
     "text": [
      "Epoch [74/300] - Train Loss: 0.419410, Val Loss: 10.309074\n",
      "========================================\n",
      "Epoch 75/300\n",
      "----------------------------------------\n"
     ]
    },
    {
     "name": "stderr",
     "output_type": "stream",
     "text": [
      "100%|██████████| 10/10 [00:00<00:00, 84.41it/s]\n",
      "100%|██████████| 2/2 [00:00<00:00, 288.97it/s]\n"
     ]
    },
    {
     "name": "stdout",
     "output_type": "stream",
     "text": [
      "Epoch [75/300] - Train Loss: 0.417366, Val Loss: 10.267811\n",
      "========================================\n",
      "Epoch 76/300\n",
      "----------------------------------------\n"
     ]
    },
    {
     "name": "stderr",
     "output_type": "stream",
     "text": [
      "100%|██████████| 10/10 [00:00<00:00, 88.45it/s]\n",
      "100%|██████████| 2/2 [00:00<00:00, 196.16it/s]\n"
     ]
    },
    {
     "name": "stdout",
     "output_type": "stream",
     "text": [
      "Epoch [76/300] - Train Loss: 0.423339, Val Loss: 10.211996\n",
      "========================================\n",
      "Epoch 77/300\n",
      "----------------------------------------\n"
     ]
    },
    {
     "name": "stderr",
     "output_type": "stream",
     "text": [
      "100%|██████████| 10/10 [00:00<00:00, 85.98it/s]\n",
      "100%|██████████| 2/2 [00:00<00:00, 174.95it/s]\n"
     ]
    },
    {
     "name": "stdout",
     "output_type": "stream",
     "text": [
      "Epoch [77/300] - Train Loss: 0.415159, Val Loss: 10.006182\n",
      "========================================\n",
      "Epoch 78/300\n",
      "----------------------------------------\n"
     ]
    },
    {
     "name": "stderr",
     "output_type": "stream",
     "text": [
      "100%|██████████| 10/10 [00:00<00:00, 83.83it/s]\n",
      "100%|██████████| 2/2 [00:00<00:00, 182.33it/s]\n"
     ]
    },
    {
     "name": "stdout",
     "output_type": "stream",
     "text": [
      "Epoch [78/300] - Train Loss: 0.415093, Val Loss: 10.175573\n",
      "========================================\n",
      "Epoch 79/300\n",
      "----------------------------------------\n"
     ]
    },
    {
     "name": "stderr",
     "output_type": "stream",
     "text": [
      "100%|██████████| 10/10 [00:00<00:00, 83.83it/s]\n",
      "100%|██████████| 2/2 [00:00<00:00, 167.25it/s]\n"
     ]
    },
    {
     "name": "stdout",
     "output_type": "stream",
     "text": [
      "Epoch [79/300] - Train Loss: 0.408402, Val Loss: 10.199509\n",
      "========================================\n",
      "Epoch 80/300\n",
      "----------------------------------------\n"
     ]
    },
    {
     "name": "stderr",
     "output_type": "stream",
     "text": [
      "100%|██████████| 10/10 [00:00<00:00, 56.83it/s]\n",
      "100%|██████████| 2/2 [00:00<00:00, 268.39it/s]\n"
     ]
    },
    {
     "name": "stdout",
     "output_type": "stream",
     "text": [
      "Epoch [80/300] - Train Loss: 0.412356, Val Loss: 10.305851\n",
      "========================================\n",
      "Epoch 81/300\n",
      "----------------------------------------\n"
     ]
    },
    {
     "name": "stderr",
     "output_type": "stream",
     "text": [
      "100%|██████████| 10/10 [00:00<00:00, 96.25it/s]\n",
      "100%|██████████| 2/2 [00:00<00:00, 191.99it/s]\n"
     ]
    },
    {
     "name": "stdout",
     "output_type": "stream",
     "text": [
      "Epoch [81/300] - Train Loss: 0.410720, Val Loss: 10.140170\n",
      "========================================\n",
      "Epoch 82/300\n",
      "----------------------------------------\n"
     ]
    },
    {
     "name": "stderr",
     "output_type": "stream",
     "text": [
      "100%|██████████| 10/10 [00:00<00:00, 93.48it/s]\n",
      "100%|██████████| 2/2 [00:00<00:00, 285.39it/s]\n"
     ]
    },
    {
     "name": "stdout",
     "output_type": "stream",
     "text": [
      "Epoch [82/300] - Train Loss: 0.412059, Val Loss: 9.930867\n",
      "========================================\n",
      "Epoch 83/300\n",
      "----------------------------------------\n"
     ]
    },
    {
     "name": "stderr",
     "output_type": "stream",
     "text": [
      "100%|██████████| 10/10 [00:00<00:00, 35.54it/s]\n",
      "100%|██████████| 2/2 [00:00<00:00, 279.22it/s]\n"
     ]
    },
    {
     "name": "stdout",
     "output_type": "stream",
     "text": [
      "Epoch [83/300] - Train Loss: 0.408280, Val Loss: 10.055423\n",
      "========================================\n",
      "Epoch 84/300\n",
      "----------------------------------------\n"
     ]
    },
    {
     "name": "stderr",
     "output_type": "stream",
     "text": [
      "100%|██████████| 10/10 [00:00<00:00, 91.38it/s]\n",
      "100%|██████████| 2/2 [00:00<00:00, 149.14it/s]\n"
     ]
    },
    {
     "name": "stdout",
     "output_type": "stream",
     "text": [
      "Epoch [84/300] - Train Loss: 0.411600, Val Loss: 10.213264\n",
      "========================================\n",
      "Epoch 85/300\n",
      "----------------------------------------\n"
     ]
    },
    {
     "name": "stderr",
     "output_type": "stream",
     "text": [
      "100%|██████████| 10/10 [00:00<00:00, 76.68it/s]\n",
      "100%|██████████| 2/2 [00:00<00:00, 269.32it/s]\n"
     ]
    },
    {
     "name": "stdout",
     "output_type": "stream",
     "text": [
      "Epoch [85/300] - Train Loss: 0.408152, Val Loss: 9.660509\n",
      "========================================\n",
      "Epoch 86/300\n",
      "----------------------------------------\n"
     ]
    },
    {
     "name": "stderr",
     "output_type": "stream",
     "text": [
      "100%|██████████| 10/10 [00:00<00:00, 97.25it/s]\n",
      "100%|██████████| 2/2 [00:00<00:00, 281.97it/s]\n"
     ]
    },
    {
     "name": "stdout",
     "output_type": "stream",
     "text": [
      "Epoch [86/300] - Train Loss: 0.410927, Val Loss: 9.766190\n",
      "========================================\n",
      "Epoch 87/300\n",
      "----------------------------------------\n"
     ]
    },
    {
     "name": "stderr",
     "output_type": "stream",
     "text": [
      "100%|██████████| 10/10 [00:00<00:00, 100.38it/s]\n",
      "100%|██████████| 2/2 [00:00<00:00, 310.41it/s]\n"
     ]
    },
    {
     "name": "stdout",
     "output_type": "stream",
     "text": [
      "Epoch [87/300] - Train Loss: 0.410310, Val Loss: 10.015559\n",
      "========================================\n",
      "Epoch 88/300\n",
      "----------------------------------------\n"
     ]
    },
    {
     "name": "stderr",
     "output_type": "stream",
     "text": [
      "100%|██████████| 10/10 [00:00<00:00, 61.60it/s]\n",
      "100%|██████████| 2/2 [00:00<00:00, 216.24it/s]\n"
     ]
    },
    {
     "name": "stdout",
     "output_type": "stream",
     "text": [
      "Epoch [88/300] - Train Loss: 0.405510, Val Loss: 9.961560\n",
      "========================================\n",
      "Epoch 89/300\n",
      "----------------------------------------\n"
     ]
    },
    {
     "name": "stderr",
     "output_type": "stream",
     "text": [
      "100%|██████████| 10/10 [00:00<00:00, 83.25it/s]\n",
      "100%|██████████| 2/2 [00:00<00:00, 143.52it/s]\n"
     ]
    },
    {
     "name": "stdout",
     "output_type": "stream",
     "text": [
      "Epoch [89/300] - Train Loss: 0.406186, Val Loss: 10.153142\n",
      "========================================\n",
      "Epoch 90/300\n",
      "----------------------------------------\n"
     ]
    },
    {
     "name": "stderr",
     "output_type": "stream",
     "text": [
      "100%|██████████| 10/10 [00:00<00:00, 90.39it/s]\n",
      "100%|██████████| 2/2 [00:00<00:00, 262.98it/s]\n"
     ]
    },
    {
     "name": "stdout",
     "output_type": "stream",
     "text": [
      "Epoch [90/300] - Train Loss: 0.407010, Val Loss: 10.238748\n",
      "========================================\n",
      "Epoch 91/300\n",
      "----------------------------------------\n"
     ]
    },
    {
     "name": "stderr",
     "output_type": "stream",
     "text": [
      "100%|██████████| 10/10 [00:00<00:00, 108.50it/s]\n",
      "100%|██████████| 2/2 [00:00<00:00, 308.97it/s]\n"
     ]
    },
    {
     "name": "stdout",
     "output_type": "stream",
     "text": [
      "Epoch [91/300] - Train Loss: 0.401615, Val Loss: 9.825472\n",
      "========================================\n",
      "Epoch 92/300\n",
      "----------------------------------------\n"
     ]
    },
    {
     "name": "stderr",
     "output_type": "stream",
     "text": [
      "100%|██████████| 10/10 [00:00<00:00, 55.06it/s]\n",
      "100%|██████████| 2/2 [00:00<00:00, 222.52it/s]\n"
     ]
    },
    {
     "name": "stdout",
     "output_type": "stream",
     "text": [
      "Epoch [92/300] - Train Loss: 0.402676, Val Loss: 9.813500\n",
      "========================================\n",
      "Epoch 93/300\n",
      "----------------------------------------\n"
     ]
    },
    {
     "name": "stderr",
     "output_type": "stream",
     "text": [
      "100%|██████████| 10/10 [00:00<00:00, 82.39it/s]\n",
      "100%|██████████| 2/2 [00:00<00:00, 200.36it/s]\n"
     ]
    },
    {
     "name": "stdout",
     "output_type": "stream",
     "text": [
      "Epoch [93/300] - Train Loss: 0.401819, Val Loss: 9.626322\n",
      "========================================\n",
      "Epoch 94/300\n",
      "----------------------------------------\n"
     ]
    },
    {
     "name": "stderr",
     "output_type": "stream",
     "text": [
      "100%|██████████| 10/10 [00:00<00:00, 85.88it/s]\n",
      "100%|██████████| 2/2 [00:00<00:00, 298.06it/s]\n"
     ]
    },
    {
     "name": "stdout",
     "output_type": "stream",
     "text": [
      "Epoch [94/300] - Train Loss: 0.401257, Val Loss: 9.634365\n",
      "========================================\n",
      "Epoch 95/300\n",
      "----------------------------------------\n"
     ]
    },
    {
     "name": "stderr",
     "output_type": "stream",
     "text": [
      "100%|██████████| 10/10 [00:00<00:00, 97.58it/s]\n",
      "100%|██████████| 2/2 [00:00<00:00, 166.50it/s]\n"
     ]
    },
    {
     "name": "stdout",
     "output_type": "stream",
     "text": [
      "Epoch [95/300] - Train Loss: 0.400457, Val Loss: 9.698533\n",
      "========================================\n",
      "Epoch 96/300\n",
      "----------------------------------------\n"
     ]
    },
    {
     "name": "stderr",
     "output_type": "stream",
     "text": [
      "100%|██████████| 10/10 [00:00<00:00, 56.41it/s]\n",
      "100%|██████████| 2/2 [00:00<00:00, 210.48it/s]\n"
     ]
    },
    {
     "name": "stdout",
     "output_type": "stream",
     "text": [
      "Epoch [96/300] - Train Loss: 0.398744, Val Loss: 9.833244\n",
      "========================================\n",
      "Epoch 97/300\n",
      "----------------------------------------\n"
     ]
    },
    {
     "name": "stderr",
     "output_type": "stream",
     "text": [
      "100%|██████████| 10/10 [00:00<00:00, 82.23it/s]\n",
      "100%|██████████| 2/2 [00:00<00:00, 194.95it/s]\n"
     ]
    },
    {
     "name": "stdout",
     "output_type": "stream",
     "text": [
      "Epoch [97/300] - Train Loss: 0.400283, Val Loss: 9.824853\n",
      "========================================\n",
      "Epoch 98/300\n",
      "----------------------------------------\n"
     ]
    },
    {
     "name": "stderr",
     "output_type": "stream",
     "text": [
      "100%|██████████| 10/10 [00:00<00:00, 62.51it/s]\n",
      "100%|██████████| 2/2 [00:00<00:00, 304.65it/s]\n"
     ]
    },
    {
     "name": "stdout",
     "output_type": "stream",
     "text": [
      "Epoch [98/300] - Train Loss: 0.398660, Val Loss: 9.755664\n",
      "========================================\n",
      "Epoch 99/300\n",
      "----------------------------------------\n"
     ]
    },
    {
     "name": "stderr",
     "output_type": "stream",
     "text": [
      "100%|██████████| 10/10 [00:00<00:00, 64.03it/s]\n",
      "100%|██████████| 2/2 [00:00<00:00, 268.31it/s]\n"
     ]
    },
    {
     "name": "stdout",
     "output_type": "stream",
     "text": [
      "Epoch [99/300] - Train Loss: 0.396850, Val Loss: 9.948731\n",
      "========================================\n",
      "Epoch 100/300\n",
      "----------------------------------------\n"
     ]
    },
    {
     "name": "stderr",
     "output_type": "stream",
     "text": [
      "100%|██████████| 10/10 [00:00<00:00, 85.45it/s]\n",
      "100%|██████████| 2/2 [00:00<00:00, 191.18it/s]\n"
     ]
    },
    {
     "name": "stdout",
     "output_type": "stream",
     "text": [
      "Epoch [100/300] - Train Loss: 0.396617, Val Loss: 9.838449\n",
      "========================================\n",
      "Epoch 101/300\n",
      "----------------------------------------\n"
     ]
    },
    {
     "name": "stderr",
     "output_type": "stream",
     "text": [
      "100%|██████████| 10/10 [00:00<00:00, 79.56it/s]\n",
      "100%|██████████| 2/2 [00:00<00:00, 258.70it/s]\n"
     ]
    },
    {
     "name": "stdout",
     "output_type": "stream",
     "text": [
      "Epoch [101/300] - Train Loss: 0.398593, Val Loss: 9.528508\n",
      "========================================\n",
      "Epoch 102/300\n",
      "----------------------------------------\n"
     ]
    },
    {
     "name": "stderr",
     "output_type": "stream",
     "text": [
      "100%|██████████| 10/10 [00:00<00:00, 78.11it/s]\n",
      "100%|██████████| 2/2 [00:00<00:00, 179.99it/s]\n"
     ]
    },
    {
     "name": "stdout",
     "output_type": "stream",
     "text": [
      "Epoch [102/300] - Train Loss: 0.394570, Val Loss: 9.485045\n",
      "========================================\n",
      "Epoch 103/300\n",
      "----------------------------------------\n"
     ]
    },
    {
     "name": "stderr",
     "output_type": "stream",
     "text": [
      "100%|██████████| 10/10 [00:00<00:00, 38.29it/s]\n",
      "100%|██████████| 2/2 [00:00<00:00, 142.54it/s]\n"
     ]
    },
    {
     "name": "stdout",
     "output_type": "stream",
     "text": [
      "Epoch [103/300] - Train Loss: 0.397375, Val Loss: 9.796373\n",
      "========================================\n",
      "Epoch 104/300\n",
      "----------------------------------------\n"
     ]
    },
    {
     "name": "stderr",
     "output_type": "stream",
     "text": [
      "100%|██████████| 10/10 [00:00<00:00, 83.85it/s]\n",
      "100%|██████████| 2/2 [00:00<00:00, 273.04it/s]\n"
     ]
    },
    {
     "name": "stdout",
     "output_type": "stream",
     "text": [
      "Epoch [104/300] - Train Loss: 0.398545, Val Loss: 9.826325\n",
      "========================================\n",
      "Epoch 105/300\n",
      "----------------------------------------\n"
     ]
    },
    {
     "name": "stderr",
     "output_type": "stream",
     "text": [
      "100%|██████████| 10/10 [00:00<00:00, 83.41it/s]\n",
      "100%|██████████| 2/2 [00:00<00:00, 252.46it/s]\n"
     ]
    },
    {
     "name": "stdout",
     "output_type": "stream",
     "text": [
      "Epoch [105/300] - Train Loss: 0.394315, Val Loss: 9.634018\n",
      "========================================\n",
      "Epoch 106/300\n",
      "----------------------------------------\n"
     ]
    },
    {
     "name": "stderr",
     "output_type": "stream",
     "text": [
      "100%|██████████| 10/10 [00:00<00:00, 81.40it/s]\n",
      "100%|██████████| 2/2 [00:00<00:00, 258.00it/s]\n"
     ]
    },
    {
     "name": "stdout",
     "output_type": "stream",
     "text": [
      "Epoch [106/300] - Train Loss: 0.399968, Val Loss: 9.328268\n",
      "========================================\n",
      "Epoch 107/300\n",
      "----------------------------------------\n"
     ]
    },
    {
     "name": "stderr",
     "output_type": "stream",
     "text": [
      "100%|██████████| 10/10 [00:00<00:00, 88.16it/s]\n",
      "100%|██████████| 2/2 [00:00<00:00, 161.75it/s]\n"
     ]
    },
    {
     "name": "stdout",
     "output_type": "stream",
     "text": [
      "Epoch [107/300] - Train Loss: 0.394757, Val Loss: 9.481402\n",
      "========================================\n",
      "Epoch 108/300\n",
      "----------------------------------------\n"
     ]
    },
    {
     "name": "stderr",
     "output_type": "stream",
     "text": [
      "100%|██████████| 10/10 [00:00<00:00, 87.72it/s]\n",
      "100%|██████████| 2/2 [00:00<00:00, 284.90it/s]\n"
     ]
    },
    {
     "name": "stdout",
     "output_type": "stream",
     "text": [
      "Epoch [108/300] - Train Loss: 0.394924, Val Loss: 9.663241\n",
      "========================================\n",
      "Epoch 109/300\n",
      "----------------------------------------\n"
     ]
    },
    {
     "name": "stderr",
     "output_type": "stream",
     "text": [
      "100%|██████████| 10/10 [00:00<00:00, 98.96it/s]\n",
      "100%|██████████| 2/2 [00:00<00:00, 222.65it/s]\n"
     ]
    },
    {
     "name": "stdout",
     "output_type": "stream",
     "text": [
      "Epoch [109/300] - Train Loss: 0.394489, Val Loss: 9.488101\n",
      "========================================\n",
      "Epoch 110/300\n",
      "----------------------------------------\n"
     ]
    },
    {
     "name": "stderr",
     "output_type": "stream",
     "text": [
      "100%|██████████| 10/10 [00:00<00:00, 56.54it/s]\n",
      "100%|██████████| 2/2 [00:00<00:00, 283.52it/s]\n"
     ]
    },
    {
     "name": "stdout",
     "output_type": "stream",
     "text": [
      "Epoch [110/300] - Train Loss: 0.398707, Val Loss: 9.526323\n",
      "========================================\n",
      "Epoch 111/300\n",
      "----------------------------------------\n"
     ]
    },
    {
     "name": "stderr",
     "output_type": "stream",
     "text": [
      "100%|██████████| 10/10 [00:00<00:00, 85.07it/s]\n",
      "100%|██████████| 2/2 [00:00<00:00, 194.34it/s]\n"
     ]
    },
    {
     "name": "stdout",
     "output_type": "stream",
     "text": [
      "Epoch [111/300] - Train Loss: 0.394757, Val Loss: 9.539354\n",
      "========================================\n",
      "Epoch 112/300\n",
      "----------------------------------------\n"
     ]
    },
    {
     "name": "stderr",
     "output_type": "stream",
     "text": [
      "100%|██████████| 10/10 [00:00<00:00, 87.30it/s]\n",
      "100%|██████████| 2/2 [00:00<00:00, 289.82it/s]\n"
     ]
    },
    {
     "name": "stdout",
     "output_type": "stream",
     "text": [
      "Epoch [112/300] - Train Loss: 0.395174, Val Loss: 9.418084\n",
      "========================================\n",
      "Epoch 113/300\n",
      "----------------------------------------\n"
     ]
    },
    {
     "name": "stderr",
     "output_type": "stream",
     "text": [
      "100%|██████████| 10/10 [00:00<00:00, 78.69it/s]\n",
      "100%|██████████| 2/2 [00:00<00:00, 298.24it/s]\n"
     ]
    },
    {
     "name": "stdout",
     "output_type": "stream",
     "text": [
      "Epoch [113/300] - Train Loss: 0.399974, Val Loss: 9.349978\n",
      "========================================\n",
      "Epoch 114/300\n",
      "----------------------------------------\n"
     ]
    },
    {
     "name": "stderr",
     "output_type": "stream",
     "text": [
      "100%|██████████| 10/10 [00:00<00:00, 94.92it/s]\n",
      "100%|██████████| 2/2 [00:00<00:00, 161.68it/s]\n"
     ]
    },
    {
     "name": "stdout",
     "output_type": "stream",
     "text": [
      "Epoch [114/300] - Train Loss: 0.396903, Val Loss: 9.556493\n",
      "========================================\n",
      "Epoch 115/300\n",
      "----------------------------------------\n"
     ]
    },
    {
     "name": "stderr",
     "output_type": "stream",
     "text": [
      "100%|██████████| 10/10 [00:00<00:00, 55.27it/s]\n",
      "100%|██████████| 2/2 [00:00<00:00, 296.16it/s]\n"
     ]
    },
    {
     "name": "stdout",
     "output_type": "stream",
     "text": [
      "Epoch [115/300] - Train Loss: 0.399231, Val Loss: 9.540360\n",
      "========================================\n",
      "Epoch 116/300\n",
      "----------------------------------------\n"
     ]
    },
    {
     "name": "stderr",
     "output_type": "stream",
     "text": [
      "100%|██████████| 10/10 [00:00<00:00, 92.99it/s]\n",
      "100%|██████████| 2/2 [00:00<00:00, 313.78it/s]\n"
     ]
    },
    {
     "name": "stdout",
     "output_type": "stream",
     "text": [
      "Epoch [116/300] - Train Loss: 0.396500, Val Loss: 9.512389\n",
      "========================================\n",
      "Epoch 117/300\n",
      "----------------------------------------\n"
     ]
    },
    {
     "name": "stderr",
     "output_type": "stream",
     "text": [
      "100%|██████████| 10/10 [00:00<00:00, 79.66it/s]\n",
      "100%|██████████| 2/2 [00:00<00:00, 165.22it/s]\n"
     ]
    },
    {
     "name": "stdout",
     "output_type": "stream",
     "text": [
      "Epoch [117/300] - Train Loss: 0.391590, Val Loss: 9.373345\n",
      "========================================\n",
      "Epoch 118/300\n",
      "----------------------------------------\n"
     ]
    },
    {
     "name": "stderr",
     "output_type": "stream",
     "text": [
      "100%|██████████| 10/10 [00:00<00:00, 78.10it/s]\n",
      "100%|██████████| 2/2 [00:00<00:00, 159.66it/s]\n"
     ]
    },
    {
     "name": "stdout",
     "output_type": "stream",
     "text": [
      "Epoch [118/300] - Train Loss: 0.394219, Val Loss: 9.406343\n",
      "========================================\n",
      "Epoch 119/300\n",
      "----------------------------------------\n"
     ]
    },
    {
     "name": "stderr",
     "output_type": "stream",
     "text": [
      "100%|██████████| 10/10 [00:00<00:00, 83.76it/s]\n",
      "100%|██████████| 2/2 [00:00<00:00, 198.24it/s]\n"
     ]
    },
    {
     "name": "stdout",
     "output_type": "stream",
     "text": [
      "Epoch [119/300] - Train Loss: 0.394418, Val Loss: 9.484058\n",
      "========================================\n",
      "Epoch 120/300\n",
      "----------------------------------------\n"
     ]
    },
    {
     "name": "stderr",
     "output_type": "stream",
     "text": [
      "100%|██████████| 10/10 [00:00<00:00, 97.41it/s]\n",
      "100%|██████████| 2/2 [00:00<00:00, 295.11it/s]\n"
     ]
    },
    {
     "name": "stdout",
     "output_type": "stream",
     "text": [
      "Epoch [120/300] - Train Loss: 0.394594, Val Loss: 8.767552\n",
      "========================================\n",
      "Epoch 121/300\n",
      "----------------------------------------\n"
     ]
    },
    {
     "name": "stderr",
     "output_type": "stream",
     "text": [
      "100%|██████████| 10/10 [00:00<00:00, 87.33it/s]\n",
      "100%|██████████| 2/2 [00:00<00:00, 263.33it/s]\n"
     ]
    },
    {
     "name": "stdout",
     "output_type": "stream",
     "text": [
      "Epoch [121/300] - Train Loss: 0.396468, Val Loss: 9.221919\n",
      "========================================\n",
      "Epoch 122/300\n",
      "----------------------------------------\n"
     ]
    },
    {
     "name": "stderr",
     "output_type": "stream",
     "text": [
      "100%|██████████| 10/10 [00:00<00:00, 79.23it/s]\n",
      "100%|██████████| 2/2 [00:00<00:00, 147.34it/s]\n"
     ]
    },
    {
     "name": "stdout",
     "output_type": "stream",
     "text": [
      "Epoch [122/300] - Train Loss: 0.395118, Val Loss: 9.696421\n",
      "========================================\n",
      "Epoch 123/300\n",
      "----------------------------------------\n"
     ]
    },
    {
     "name": "stderr",
     "output_type": "stream",
     "text": [
      "100%|██████████| 10/10 [00:00<00:00, 88.56it/s]\n",
      "100%|██████████| 2/2 [00:00<00:00, 283.36it/s]\n"
     ]
    },
    {
     "name": "stdout",
     "output_type": "stream",
     "text": [
      "Epoch [123/300] - Train Loss: 0.394960, Val Loss: 9.488644\n",
      "========================================\n",
      "Epoch 124/300\n",
      "----------------------------------------\n"
     ]
    },
    {
     "name": "stderr",
     "output_type": "stream",
     "text": [
      "100%|██████████| 10/10 [00:00<00:00, 79.71it/s]\n",
      "100%|██████████| 2/2 [00:00<00:00, 282.49it/s]\n"
     ]
    },
    {
     "name": "stdout",
     "output_type": "stream",
     "text": [
      "Epoch [124/300] - Train Loss: 0.396455, Val Loss: 8.566418\n",
      "========================================\n",
      "Epoch 125/300\n",
      "----------------------------------------\n"
     ]
    },
    {
     "name": "stderr",
     "output_type": "stream",
     "text": [
      "100%|██████████| 10/10 [00:00<00:00, 85.88it/s]\n",
      "100%|██████████| 2/2 [00:00<00:00, 178.33it/s]\n"
     ]
    },
    {
     "name": "stdout",
     "output_type": "stream",
     "text": [
      "Epoch [125/300] - Train Loss: 0.393452, Val Loss: 8.903226\n",
      "========================================\n",
      "Epoch 126/300\n",
      "----------------------------------------\n"
     ]
    },
    {
     "name": "stderr",
     "output_type": "stream",
     "text": [
      "100%|██████████| 10/10 [00:00<00:00, 78.55it/s]\n",
      "100%|██████████| 2/2 [00:00<00:00, 273.18it/s]\n"
     ]
    },
    {
     "name": "stdout",
     "output_type": "stream",
     "text": [
      "Epoch [126/300] - Train Loss: 0.393936, Val Loss: 9.185462\n",
      "========================================\n",
      "Epoch 127/300\n",
      "----------------------------------------\n"
     ]
    },
    {
     "name": "stderr",
     "output_type": "stream",
     "text": [
      "100%|██████████| 10/10 [00:00<00:00, 56.95it/s]\n",
      "100%|██████████| 2/2 [00:00<00:00, 276.36it/s]\n"
     ]
    },
    {
     "name": "stdout",
     "output_type": "stream",
     "text": [
      "Epoch [127/300] - Train Loss: 0.394862, Val Loss: 9.343424\n",
      "========================================\n",
      "Epoch 128/300\n",
      "----------------------------------------\n"
     ]
    },
    {
     "name": "stderr",
     "output_type": "stream",
     "text": [
      "100%|██████████| 10/10 [00:00<00:00, 92.40it/s]\n",
      "100%|██████████| 2/2 [00:00<00:00, 207.54it/s]\n"
     ]
    },
    {
     "name": "stdout",
     "output_type": "stream",
     "text": [
      "Epoch [128/300] - Train Loss: 0.392767, Val Loss: 9.095043\n",
      "========================================\n",
      "Epoch 129/300\n",
      "----------------------------------------\n"
     ]
    },
    {
     "name": "stderr",
     "output_type": "stream",
     "text": [
      "100%|██████████| 10/10 [00:00<00:00, 83.76it/s]\n",
      "100%|██████████| 2/2 [00:00<00:00, 279.56it/s]\n"
     ]
    },
    {
     "name": "stdout",
     "output_type": "stream",
     "text": [
      "Epoch [129/300] - Train Loss: 0.392919, Val Loss: 9.053540\n",
      "========================================\n",
      "Epoch 130/300\n",
      "----------------------------------------\n"
     ]
    },
    {
     "name": "stderr",
     "output_type": "stream",
     "text": [
      "100%|██████████| 10/10 [00:00<00:00, 85.25it/s]\n",
      "100%|██████████| 2/2 [00:00<00:00, 180.74it/s]\n"
     ]
    },
    {
     "name": "stdout",
     "output_type": "stream",
     "text": [
      "Epoch [130/300] - Train Loss: 0.392053, Val Loss: 9.304279\n",
      "========================================\n",
      "Epoch 131/300\n",
      "----------------------------------------\n"
     ]
    },
    {
     "name": "stderr",
     "output_type": "stream",
     "text": [
      "100%|██████████| 10/10 [00:00<00:00, 90.18it/s]\n",
      "100%|██████████| 2/2 [00:00<00:00, 309.69it/s]\n"
     ]
    },
    {
     "name": "stdout",
     "output_type": "stream",
     "text": [
      "Epoch [131/300] - Train Loss: 0.389558, Val Loss: 9.379968\n",
      "========================================\n",
      "Epoch 132/300\n",
      "----------------------------------------\n"
     ]
    },
    {
     "name": "stderr",
     "output_type": "stream",
     "text": [
      "100%|██████████| 10/10 [00:00<00:00, 100.25it/s]\n",
      "100%|██████████| 2/2 [00:00<00:00, 191.61it/s]\n"
     ]
    },
    {
     "name": "stdout",
     "output_type": "stream",
     "text": [
      "Epoch [132/300] - Train Loss: 0.395326, Val Loss: 9.302635\n",
      "========================================\n",
      "Epoch 133/300\n",
      "----------------------------------------\n"
     ]
    },
    {
     "name": "stderr",
     "output_type": "stream",
     "text": [
      "100%|██████████| 10/10 [00:00<00:00, 81.79it/s]\n",
      "100%|██████████| 2/2 [00:00<00:00, 191.46it/s]\n"
     ]
    },
    {
     "name": "stdout",
     "output_type": "stream",
     "text": [
      "Epoch [133/300] - Train Loss: 0.390772, Val Loss: 9.194733\n",
      "========================================\n",
      "Epoch 134/300\n",
      "----------------------------------------\n"
     ]
    },
    {
     "name": "stderr",
     "output_type": "stream",
     "text": [
      "100%|██████████| 10/10 [00:00<00:00, 83.47it/s]\n",
      "100%|██████████| 2/2 [00:00<00:00, 201.59it/s]\n"
     ]
    },
    {
     "name": "stdout",
     "output_type": "stream",
     "text": [
      "Epoch [134/300] - Train Loss: 0.391410, Val Loss: 8.902852\n",
      "========================================\n",
      "Epoch 135/300\n",
      "----------------------------------------\n"
     ]
    },
    {
     "name": "stderr",
     "output_type": "stream",
     "text": [
      "100%|██████████| 10/10 [00:00<00:00, 87.53it/s]\n",
      "100%|██████████| 2/2 [00:00<00:00, 174.20it/s]\n"
     ]
    },
    {
     "name": "stdout",
     "output_type": "stream",
     "text": [
      "Epoch [135/300] - Train Loss: 0.393058, Val Loss: 9.006959\n",
      "========================================\n",
      "Epoch 136/300\n",
      "----------------------------------------\n"
     ]
    },
    {
     "name": "stderr",
     "output_type": "stream",
     "text": [
      "100%|██████████| 10/10 [00:00<00:00, 89.82it/s]\n",
      "100%|██████████| 2/2 [00:00<00:00, 185.67it/s]\n"
     ]
    },
    {
     "name": "stdout",
     "output_type": "stream",
     "text": [
      "Epoch [136/300] - Train Loss: 0.390732, Val Loss: 9.092000\n",
      "========================================\n",
      "Epoch 137/300\n",
      "----------------------------------------\n"
     ]
    },
    {
     "name": "stderr",
     "output_type": "stream",
     "text": [
      "100%|██████████| 10/10 [00:00<00:00, 62.54it/s]\n",
      "100%|██████████| 2/2 [00:00<00:00, 262.09it/s]\n"
     ]
    },
    {
     "name": "stdout",
     "output_type": "stream",
     "text": [
      "Epoch [137/300] - Train Loss: 0.393464, Val Loss: 9.307103\n",
      "========================================\n",
      "Epoch 138/300\n",
      "----------------------------------------\n"
     ]
    },
    {
     "name": "stderr",
     "output_type": "stream",
     "text": [
      "100%|██████████| 10/10 [00:00<00:00, 57.23it/s]\n",
      "100%|██████████| 2/2 [00:00<00:00, 328.08it/s]\n"
     ]
    },
    {
     "name": "stdout",
     "output_type": "stream",
     "text": [
      "Epoch [138/300] - Train Loss: 0.392868, Val Loss: 9.447801\n",
      "========================================\n",
      "Epoch 139/300\n",
      "----------------------------------------\n"
     ]
    },
    {
     "name": "stderr",
     "output_type": "stream",
     "text": [
      "100%|██████████| 10/10 [00:00<00:00, 88.44it/s]\n",
      "100%|██████████| 2/2 [00:00<00:00, 154.78it/s]\n"
     ]
    },
    {
     "name": "stdout",
     "output_type": "stream",
     "text": [
      "Epoch [139/300] - Train Loss: 0.392086, Val Loss: 9.195639\n",
      "========================================\n",
      "Epoch 140/300\n",
      "----------------------------------------\n"
     ]
    },
    {
     "name": "stderr",
     "output_type": "stream",
     "text": [
      "100%|██████████| 10/10 [00:00<00:00, 78.90it/s]\n",
      "100%|██████████| 2/2 [00:00<00:00, 126.77it/s]\n"
     ]
    },
    {
     "name": "stdout",
     "output_type": "stream",
     "text": [
      "Epoch [140/300] - Train Loss: 0.392624, Val Loss: 9.274258\n",
      "========================================\n",
      "Epoch 141/300\n",
      "----------------------------------------\n"
     ]
    },
    {
     "name": "stderr",
     "output_type": "stream",
     "text": [
      "100%|██████████| 10/10 [00:00<00:00, 81.89it/s]\n",
      "100%|██████████| 2/2 [00:00<00:00, 198.12it/s]\n"
     ]
    },
    {
     "name": "stdout",
     "output_type": "stream",
     "text": [
      "Epoch [141/300] - Train Loss: 0.390931, Val Loss: 9.043001\n",
      "========================================\n",
      "Epoch 142/300\n",
      "----------------------------------------\n"
     ]
    },
    {
     "name": "stderr",
     "output_type": "stream",
     "text": [
      "100%|██████████| 10/10 [00:00<00:00, 74.71it/s]\n",
      "100%|██████████| 2/2 [00:00<00:00, 179.59it/s]\n"
     ]
    },
    {
     "name": "stdout",
     "output_type": "stream",
     "text": [
      "Epoch [142/300] - Train Loss: 0.393405, Val Loss: 9.082495\n",
      "========================================\n",
      "Epoch 143/300\n",
      "----------------------------------------\n"
     ]
    },
    {
     "name": "stderr",
     "output_type": "stream",
     "text": [
      "100%|██████████| 10/10 [00:00<00:00, 60.81it/s]\n",
      "100%|██████████| 2/2 [00:00<00:00, 265.11it/s]\n"
     ]
    },
    {
     "name": "stdout",
     "output_type": "stream",
     "text": [
      "Epoch [143/300] - Train Loss: 0.391394, Val Loss: 9.302354\n",
      "========================================\n",
      "Epoch 144/300\n",
      "----------------------------------------\n"
     ]
    },
    {
     "name": "stderr",
     "output_type": "stream",
     "text": [
      "100%|██████████| 10/10 [00:00<00:00, 75.40it/s]\n",
      "100%|██████████| 2/2 [00:00<00:00, 186.90it/s]\n"
     ]
    },
    {
     "name": "stdout",
     "output_type": "stream",
     "text": [
      "Epoch [144/300] - Train Loss: 0.388833, Val Loss: 9.219606\n",
      "========================================\n",
      "Epoch 145/300\n",
      "----------------------------------------\n"
     ]
    },
    {
     "name": "stderr",
     "output_type": "stream",
     "text": [
      "100%|██████████| 10/10 [00:00<00:00, 78.35it/s]\n",
      "100%|██████████| 2/2 [00:00<00:00, 288.89it/s]\n"
     ]
    },
    {
     "name": "stdout",
     "output_type": "stream",
     "text": [
      "Epoch [145/300] - Train Loss: 0.393272, Val Loss: 9.202698\n",
      "========================================\n",
      "Epoch 146/300\n",
      "----------------------------------------\n"
     ]
    },
    {
     "name": "stderr",
     "output_type": "stream",
     "text": [
      "100%|██████████| 10/10 [00:00<00:00, 98.90it/s]\n",
      "100%|██████████| 2/2 [00:00<00:00, 191.22it/s]\n"
     ]
    },
    {
     "name": "stdout",
     "output_type": "stream",
     "text": [
      "Epoch [146/300] - Train Loss: 0.391352, Val Loss: 9.208055\n",
      "========================================\n",
      "Epoch 147/300\n",
      "----------------------------------------\n"
     ]
    },
    {
     "name": "stderr",
     "output_type": "stream",
     "text": [
      "100%|██████████| 10/10 [00:00<00:00, 82.54it/s]\n",
      "100%|██████████| 2/2 [00:00<00:00, 150.19it/s]\n"
     ]
    },
    {
     "name": "stdout",
     "output_type": "stream",
     "text": [
      "Epoch [147/300] - Train Loss: 0.391333, Val Loss: 9.257081\n",
      "========================================\n",
      "Epoch 148/300\n",
      "----------------------------------------\n"
     ]
    },
    {
     "name": "stderr",
     "output_type": "stream",
     "text": [
      "100%|██████████| 10/10 [00:00<00:00, 78.87it/s]\n",
      "100%|██████████| 2/2 [00:00<00:00, 163.57it/s]\n"
     ]
    },
    {
     "name": "stdout",
     "output_type": "stream",
     "text": [
      "Epoch [148/300] - Train Loss: 0.393804, Val Loss: 8.939884\n",
      "========================================\n",
      "Epoch 149/300\n",
      "----------------------------------------\n"
     ]
    },
    {
     "name": "stderr",
     "output_type": "stream",
     "text": [
      "100%|██████████| 10/10 [00:00<00:00, 52.86it/s]\n",
      "100%|██████████| 2/2 [00:00<00:00, 152.67it/s]\n"
     ]
    },
    {
     "name": "stdout",
     "output_type": "stream",
     "text": [
      "Epoch [149/300] - Train Loss: 0.392186, Val Loss: 8.622002\n",
      "========================================\n",
      "Epoch 150/300\n",
      "----------------------------------------\n"
     ]
    },
    {
     "name": "stderr",
     "output_type": "stream",
     "text": [
      "100%|██████████| 10/10 [00:00<00:00, 76.81it/s]\n",
      "100%|██████████| 2/2 [00:00<00:00, 172.77it/s]\n"
     ]
    },
    {
     "name": "stdout",
     "output_type": "stream",
     "text": [
      "Epoch [150/300] - Train Loss: 0.391882, Val Loss: 8.785868\n",
      "========================================\n",
      "Epoch 151/300\n",
      "----------------------------------------\n"
     ]
    },
    {
     "name": "stderr",
     "output_type": "stream",
     "text": [
      "100%|██████████| 10/10 [00:00<00:00, 75.05it/s]\n",
      "100%|██████████| 2/2 [00:00<00:00, 174.61it/s]\n"
     ]
    },
    {
     "name": "stdout",
     "output_type": "stream",
     "text": [
      "Epoch [151/300] - Train Loss: 0.389242, Val Loss: 9.229437\n",
      "========================================\n",
      "Epoch 152/300\n",
      "----------------------------------------\n"
     ]
    },
    {
     "name": "stderr",
     "output_type": "stream",
     "text": [
      "100%|██████████| 10/10 [00:00<00:00, 70.78it/s]\n",
      "100%|██████████| 2/2 [00:00<00:00, 300.39it/s]\n"
     ]
    },
    {
     "name": "stdout",
     "output_type": "stream",
     "text": [
      "Epoch [152/300] - Train Loss: 0.393057, Val Loss: 9.415621\n",
      "========================================\n",
      "Epoch 153/300\n",
      "----------------------------------------\n"
     ]
    },
    {
     "name": "stderr",
     "output_type": "stream",
     "text": [
      "100%|██████████| 10/10 [00:00<00:00, 97.26it/s]\n",
      "100%|██████████| 2/2 [00:00<00:00, 288.31it/s]\n"
     ]
    },
    {
     "name": "stdout",
     "output_type": "stream",
     "text": [
      "Epoch [153/300] - Train Loss: 0.392118, Val Loss: 9.148727\n",
      "========================================\n",
      "Epoch 154/300\n",
      "----------------------------------------\n"
     ]
    },
    {
     "name": "stderr",
     "output_type": "stream",
     "text": [
      "100%|██████████| 10/10 [00:00<00:00, 70.60it/s]\n",
      "100%|██████████| 2/2 [00:00<00:00, 286.86it/s]"
     ]
    },
    {
     "name": "stdout",
     "output_type": "stream",
     "text": [
      "Epoch [154/300] - Train Loss: 0.393289, Val Loss: 8.863606\n",
      "Early stopping triggered after epoch 154\n",
      "\n",
      "New model is better! Saved with validation loss: 8.566418\n",
      "Previous best was: inf\n",
      "\n",
      "Best validation loss achieved this training: 8.566418\n"
     ]
    },
    {
     "name": "stderr",
     "output_type": "stream",
     "text": [
      "\n"
     ]
    }
   ],
   "source": [
    "# Training the model using the train_loader, val_loader, and test_loader\n",
    "model = model.to(device)\n",
    "\n",
    "criterion = nn.MSELoss()\n",
    "optimizer = torch.optim.Adam(\n",
    "    model.parameters(),\n",
    "    lr=learning_rate,\n",
    "    # weight_decay=l2_penalty\n",
    ")\n",
    "\n",
    "num_epochs = 300\n",
    "best_val_loss = float('inf')\n",
    "patience = 30\n",
    "patience_counter = 0\n",
    "\n",
    "# Load existing model's best validation loss if it exists\n",
    "existing_model_path = '../../models/temp_models/cnn_bilstm_attention5.pth'\n",
    "existing_best_val_loss = float('inf')\n",
    "\n",
    "if os.path.exists(existing_model_path):\n",
    "    try:\n",
    "        # Create a temporary model to load and evaluate the existing model\n",
    "        temp_lstm = CnnBiLSTMAttention(input_dims=len(features), time_steps=5, lstm_units=2)\n",
    "        temp_lstm.load_state_dict(torch.load(existing_model_path))\n",
    "        temp_lstm.eval()\n",
    "\n",
    "        # Evaluate existing model on validation set\n",
    "        existing_val_loss = 0.0\n",
    "        with torch.no_grad():\n",
    "            for batch_x, batch_y in val_loader:\n",
    "                batch_x, batch_y = batch_x.to(device), batch_y.to(device)\n",
    "                outputs = temp_lstm(batch_x)\n",
    "                loss = criterion(outputs, batch_y)\n",
    "                existing_val_loss += loss.item()\n",
    "\n",
    "        existing_best_val_loss = existing_val_loss / len(val_loader)\n",
    "        print(f\"Existing model validation loss: {existing_best_val_loss:.6f}\")\n",
    "\n",
    "        # Delete temporary model to free memory\n",
    "        del temp_lstm\n",
    "        torch.cuda.empty_cache() if torch.cuda.is_available() else None\n",
    "\n",
    "    except Exception as e:\n",
    "        print(f\"Could not load existing model: {e}\")\n",
    "        existing_best_val_loss = float('inf')\n",
    "\n",
    "train_losses = []\n",
    "val_losses = []\n",
    "\n",
    "print(f\"Training on device: {device}\")\n",
    "print(f\"Model parameters: {sum(p.numel() for p in model.parameters())}\")\n",
    "\n",
    "for epoch in range(num_epochs):\n",
    "\n",
    "    print(f\"{'='*40}\")\n",
    "    print(f\"Epoch {epoch+1}/{num_epochs}\")\n",
    "    print(f\"{'-'*40}\")\n",
    "\n",
    "    model.train()\n",
    "    train_loss = 0.0\n",
    "\n",
    "    for batch_x, batch_y in tqdm(train_loader):\n",
    "        batch_x, batch_y = batch_x.to(device), batch_y.to(device)\n",
    "\n",
    "        # Zero gradients\n",
    "        optimizer.zero_grad()\n",
    "\n",
    "        # Forward pass\n",
    "        outputs = model(batch_x)\n",
    "        loss = criterion(outputs, batch_y)\n",
    "\n",
    "        # Backward pass\n",
    "        loss.backward()\n",
    "        optimizer.step()\n",
    "\n",
    "        train_loss += loss.item()\n",
    "\n",
    "    model.eval()\n",
    "    val_loss = 0.0\n",
    "\n",
    "    with torch.no_grad():\n",
    "        for batch_x, batch_y in tqdm(val_loader):\n",
    "            batch_x, batch_y = batch_x.to(device), batch_y.to(device)\n",
    "\n",
    "            outputs = model(batch_x)\n",
    "            loss = criterion(outputs, batch_y)\n",
    "            val_loss += loss.item()\n",
    "\n",
    "    avg_train_loss = train_loss / len(train_loader)\n",
    "    avg_val_loss = val_loss / len(val_loader)\n",
    "\n",
    "    train_losses.append(avg_train_loss)\n",
    "    val_losses.append(avg_val_loss)\n",
    "\n",
    "    # Early stopping and model saving\n",
    "    if avg_val_loss < best_val_loss:\n",
    "        best_val_loss = avg_val_loss\n",
    "        patience_counter = 0\n",
    "    else:\n",
    "        patience_counter += 1\n",
    "\n",
    "    print(f'Epoch [{epoch+1}/{num_epochs}] - Train Loss: {avg_train_loss:.6f}, Val Loss: {avg_val_loss:.6f}')\n",
    "\n",
    "    # Early stopping check\n",
    "    if patience_counter >= patience:\n",
    "        print(f'Early stopping triggered after epoch {epoch+1}')\n",
    "        break\n",
    "\n",
    "# After training is complete, compare with existing model and save only if better\n",
    "if best_val_loss < existing_best_val_loss:\n",
    "    torch.save(model.state_dict(), existing_model_path)\n",
    "    print(f'\\nNew model is better! Saved with validation loss: {best_val_loss:.6f}')\n",
    "    print(f'Previous best was: {existing_best_val_loss:.6f}')\n",
    "else:\n",
    "    print(f'\\nExisting model is better. Not saving new model.')\n",
    "    print(f'New model validation loss: {best_val_loss:.6f}')\n",
    "    print(f'Existing model validation loss: {existing_best_val_loss:.6f}')\n",
    "\n",
    "print(f'\\nBest validation loss achieved this training: {best_val_loss:.6f}')"
   ]
  },
  {
   "cell_type": "code",
   "execution_count": 12,
   "id": "9a4a6e6d",
   "metadata": {},
   "outputs": [
    {
     "data": {
      "image/png": "[encoded data removed]",
      "text/plain": [
       "<Figure size 1000x500 with 1 Axes>"
      ]
     },
     "metadata": {},
     "output_type": "display_data"
    }
   ],
   "source": [
    "import matplotlib.pyplot as plt\n",
    "\n",
    "# Plot training and validation losses\n",
    "plt.figure(figsize=(10, 5))\n",
    "plt.plot(train_losses, label='Train Loss', color='blue')\n",
    "plt.plot(val_losses, label='Validation Loss', color='orange')\n",
    "plt.xlabel('Epochs')\n",
    "plt.ylabel('Loss')\n",
    "plt.title('Training and Validation Losses')\n",
    "plt.legend()\n",
    "plt.grid()\n",
    "plt.show()"
   ]
  },
  {
   "cell_type": "code",
   "execution_count": null,
   "id": "df8d30a0",
   "metadata": {},
   "outputs": [],
   "source": []
  }
 ],
 "metadata": {
  "kernelspec": {
   "display_name": "Python 3",
   "language": "python",
   "name": "python3"
  },
  "language_info": {
   "codemirror_mode": {
    "name": "ipython",
    "version": 3
   },
   "file_extension": ".py",
   "mimetype": "text/x-python",
   "name": "python",
   "nbconvert_exporter": "python",
   "pygments_lexer": "ipython3",
   "version": "3.11.13"
  }
 },
 "nbformat": 4,
 "nbformat_minor": 5
}
